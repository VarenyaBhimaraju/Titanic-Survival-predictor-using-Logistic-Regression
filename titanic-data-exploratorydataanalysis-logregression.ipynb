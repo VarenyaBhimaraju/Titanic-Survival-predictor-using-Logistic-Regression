{
 "cells": [
  {
   "cell_type": "code",
   "execution_count": 1,
   "id": "6ff6365c",
   "metadata": {
    "_cell_guid": "b1076dfc-b9ad-4769-8c92-a6c4dae69d19",
    "_uuid": "8f2839f25d086af736a60e9eeb907d3b93b6e0e5",
    "execution": {
     "iopub.execute_input": "2024-06-20T17:24:13.722506Z",
     "iopub.status.busy": "2024-06-20T17:24:13.721275Z",
     "iopub.status.idle": "2024-06-20T17:24:13.740389Z",
     "shell.execute_reply": "2024-06-20T17:24:13.738921Z"
    },
    "papermill": {
     "duration": 0.030386,
     "end_time": "2024-06-20T17:24:13.743104",
     "exception": false,
     "start_time": "2024-06-20T17:24:13.712718",
     "status": "completed"
    },
    "tags": []
   },
   "outputs": [
    {
     "name": "stdout",
     "output_type": "stream",
     "text": [
      "/kaggle/input/titanic/train_and_test2.csv\n"
     ]
    }
   ],
   "source": [
    "# Environment Setting\n",
    "\n",
    "import os\n",
    "for dirname, _, filenames in os.walk('/kaggle/input'):\n",
    "    for filename in filenames:\n",
    "        print(os.path.join(dirname, filename))"
   ]
  },
  {
   "cell_type": "markdown",
   "id": "962e9f99",
   "metadata": {
    "papermill": {
     "duration": 0.006487,
     "end_time": "2024-06-20T17:24:13.756521",
     "exception": false,
     "start_time": "2024-06-20T17:24:13.750034",
     "status": "completed"
    },
    "tags": []
   },
   "source": [
    "*Importing Required Libraries*"
   ]
  },
  {
   "cell_type": "code",
   "execution_count": 2,
   "id": "10c75265",
   "metadata": {
    "execution": {
     "iopub.execute_input": "2024-06-20T17:24:13.771433Z",
     "iopub.status.busy": "2024-06-20T17:24:13.771024Z",
     "iopub.status.idle": "2024-06-20T17:24:14.604129Z",
     "shell.execute_reply": "2024-06-20T17:24:14.603072Z"
    },
    "papermill": {
     "duration": 0.843485,
     "end_time": "2024-06-20T17:24:14.606718",
     "exception": false,
     "start_time": "2024-06-20T17:24:13.763233",
     "status": "completed"
    },
    "tags": []
   },
   "outputs": [],
   "source": [
    "import pandas as pd"
   ]
  },
  {
   "cell_type": "code",
   "execution_count": 3,
   "id": "ebf85461",
   "metadata": {
    "execution": {
     "iopub.execute_input": "2024-06-20T17:24:14.621913Z",
     "iopub.status.busy": "2024-06-20T17:24:14.621397Z",
     "iopub.status.idle": "2024-06-20T17:24:14.646389Z",
     "shell.execute_reply": "2024-06-20T17:24:14.645347Z"
    },
    "papermill": {
     "duration": 0.035317,
     "end_time": "2024-06-20T17:24:14.648804",
     "exception": false,
     "start_time": "2024-06-20T17:24:14.613487",
     "status": "completed"
    },
    "tags": []
   },
   "outputs": [],
   "source": [
    "df = pd.read_csv(\"/kaggle/input/titanic/train_and_test2.csv\")"
   ]
  },
  {
   "cell_type": "code",
   "execution_count": 4,
   "id": "3be9365c",
   "metadata": {
    "execution": {
     "iopub.execute_input": "2024-06-20T17:24:14.664104Z",
     "iopub.status.busy": "2024-06-20T17:24:14.663243Z",
     "iopub.status.idle": "2024-06-20T17:24:14.693554Z",
     "shell.execute_reply": "2024-06-20T17:24:14.692484Z"
    },
    "papermill": {
     "duration": 0.040346,
     "end_time": "2024-06-20T17:24:14.695774",
     "exception": false,
     "start_time": "2024-06-20T17:24:14.655428",
     "status": "completed"
    },
    "tags": []
   },
   "outputs": [
    {
     "data": {
      "text/html": [
       "<div>\n",
       "<style scoped>\n",
       "    .dataframe tbody tr th:only-of-type {\n",
       "        vertical-align: middle;\n",
       "    }\n",
       "\n",
       "    .dataframe tbody tr th {\n",
       "        vertical-align: top;\n",
       "    }\n",
       "\n",
       "    .dataframe thead th {\n",
       "        text-align: right;\n",
       "    }\n",
       "</style>\n",
       "<table border=\"1\" class=\"dataframe\">\n",
       "  <thead>\n",
       "    <tr style=\"text-align: right;\">\n",
       "      <th></th>\n",
       "      <th>Passengerid</th>\n",
       "      <th>Age</th>\n",
       "      <th>Fare</th>\n",
       "      <th>Sex</th>\n",
       "      <th>sibsp</th>\n",
       "      <th>zero</th>\n",
       "      <th>zero.1</th>\n",
       "      <th>zero.2</th>\n",
       "      <th>zero.3</th>\n",
       "      <th>zero.4</th>\n",
       "      <th>...</th>\n",
       "      <th>zero.12</th>\n",
       "      <th>zero.13</th>\n",
       "      <th>zero.14</th>\n",
       "      <th>Pclass</th>\n",
       "      <th>zero.15</th>\n",
       "      <th>zero.16</th>\n",
       "      <th>Embarked</th>\n",
       "      <th>zero.17</th>\n",
       "      <th>zero.18</th>\n",
       "      <th>2urvived</th>\n",
       "    </tr>\n",
       "  </thead>\n",
       "  <tbody>\n",
       "    <tr>\n",
       "      <th>0</th>\n",
       "      <td>1</td>\n",
       "      <td>22.0</td>\n",
       "      <td>7.2500</td>\n",
       "      <td>0</td>\n",
       "      <td>1</td>\n",
       "      <td>0</td>\n",
       "      <td>0</td>\n",
       "      <td>0</td>\n",
       "      <td>0</td>\n",
       "      <td>0</td>\n",
       "      <td>...</td>\n",
       "      <td>0</td>\n",
       "      <td>0</td>\n",
       "      <td>0</td>\n",
       "      <td>3</td>\n",
       "      <td>0</td>\n",
       "      <td>0</td>\n",
       "      <td>2.0</td>\n",
       "      <td>0</td>\n",
       "      <td>0</td>\n",
       "      <td>0</td>\n",
       "    </tr>\n",
       "    <tr>\n",
       "      <th>1</th>\n",
       "      <td>2</td>\n",
       "      <td>38.0</td>\n",
       "      <td>71.2833</td>\n",
       "      <td>1</td>\n",
       "      <td>1</td>\n",
       "      <td>0</td>\n",
       "      <td>0</td>\n",
       "      <td>0</td>\n",
       "      <td>0</td>\n",
       "      <td>0</td>\n",
       "      <td>...</td>\n",
       "      <td>0</td>\n",
       "      <td>0</td>\n",
       "      <td>0</td>\n",
       "      <td>1</td>\n",
       "      <td>0</td>\n",
       "      <td>0</td>\n",
       "      <td>0.0</td>\n",
       "      <td>0</td>\n",
       "      <td>0</td>\n",
       "      <td>1</td>\n",
       "    </tr>\n",
       "    <tr>\n",
       "      <th>2</th>\n",
       "      <td>3</td>\n",
       "      <td>26.0</td>\n",
       "      <td>7.9250</td>\n",
       "      <td>1</td>\n",
       "      <td>0</td>\n",
       "      <td>0</td>\n",
       "      <td>0</td>\n",
       "      <td>0</td>\n",
       "      <td>0</td>\n",
       "      <td>0</td>\n",
       "      <td>...</td>\n",
       "      <td>0</td>\n",
       "      <td>0</td>\n",
       "      <td>0</td>\n",
       "      <td>3</td>\n",
       "      <td>0</td>\n",
       "      <td>0</td>\n",
       "      <td>2.0</td>\n",
       "      <td>0</td>\n",
       "      <td>0</td>\n",
       "      <td>1</td>\n",
       "    </tr>\n",
       "    <tr>\n",
       "      <th>3</th>\n",
       "      <td>4</td>\n",
       "      <td>35.0</td>\n",
       "      <td>53.1000</td>\n",
       "      <td>1</td>\n",
       "      <td>1</td>\n",
       "      <td>0</td>\n",
       "      <td>0</td>\n",
       "      <td>0</td>\n",
       "      <td>0</td>\n",
       "      <td>0</td>\n",
       "      <td>...</td>\n",
       "      <td>0</td>\n",
       "      <td>0</td>\n",
       "      <td>0</td>\n",
       "      <td>1</td>\n",
       "      <td>0</td>\n",
       "      <td>0</td>\n",
       "      <td>2.0</td>\n",
       "      <td>0</td>\n",
       "      <td>0</td>\n",
       "      <td>1</td>\n",
       "    </tr>\n",
       "    <tr>\n",
       "      <th>4</th>\n",
       "      <td>5</td>\n",
       "      <td>35.0</td>\n",
       "      <td>8.0500</td>\n",
       "      <td>0</td>\n",
       "      <td>0</td>\n",
       "      <td>0</td>\n",
       "      <td>0</td>\n",
       "      <td>0</td>\n",
       "      <td>0</td>\n",
       "      <td>0</td>\n",
       "      <td>...</td>\n",
       "      <td>0</td>\n",
       "      <td>0</td>\n",
       "      <td>0</td>\n",
       "      <td>3</td>\n",
       "      <td>0</td>\n",
       "      <td>0</td>\n",
       "      <td>2.0</td>\n",
       "      <td>0</td>\n",
       "      <td>0</td>\n",
       "      <td>0</td>\n",
       "    </tr>\n",
       "  </tbody>\n",
       "</table>\n",
       "<p>5 rows × 28 columns</p>\n",
       "</div>"
      ],
      "text/plain": [
       "   Passengerid   Age     Fare  Sex  sibsp  zero  zero.1  zero.2  zero.3  \\\n",
       "0            1  22.0   7.2500    0      1     0       0       0       0   \n",
       "1            2  38.0  71.2833    1      1     0       0       0       0   \n",
       "2            3  26.0   7.9250    1      0     0       0       0       0   \n",
       "3            4  35.0  53.1000    1      1     0       0       0       0   \n",
       "4            5  35.0   8.0500    0      0     0       0       0       0   \n",
       "\n",
       "   zero.4  ...  zero.12  zero.13  zero.14  Pclass  zero.15  zero.16  Embarked  \\\n",
       "0       0  ...        0        0        0       3        0        0       2.0   \n",
       "1       0  ...        0        0        0       1        0        0       0.0   \n",
       "2       0  ...        0        0        0       3        0        0       2.0   \n",
       "3       0  ...        0        0        0       1        0        0       2.0   \n",
       "4       0  ...        0        0        0       3        0        0       2.0   \n",
       "\n",
       "   zero.17  zero.18  2urvived  \n",
       "0        0        0         0  \n",
       "1        0        0         1  \n",
       "2        0        0         1  \n",
       "3        0        0         1  \n",
       "4        0        0         0  \n",
       "\n",
       "[5 rows x 28 columns]"
      ]
     },
     "execution_count": 4,
     "metadata": {},
     "output_type": "execute_result"
    }
   ],
   "source": [
    "df.head()"
   ]
  },
  {
   "cell_type": "code",
   "execution_count": 5,
   "id": "eaacd87e",
   "metadata": {
    "execution": {
     "iopub.execute_input": "2024-06-20T17:24:14.711666Z",
     "iopub.status.busy": "2024-06-20T17:24:14.710973Z",
     "iopub.status.idle": "2024-06-20T17:24:14.733209Z",
     "shell.execute_reply": "2024-06-20T17:24:14.731870Z"
    },
    "papermill": {
     "duration": 0.032629,
     "end_time": "2024-06-20T17:24:14.735406",
     "exception": false,
     "start_time": "2024-06-20T17:24:14.702777",
     "status": "completed"
    },
    "tags": []
   },
   "outputs": [
    {
     "name": "stdout",
     "output_type": "stream",
     "text": [
      "<class 'pandas.core.frame.DataFrame'>\n",
      "RangeIndex: 1309 entries, 0 to 1308\n",
      "Data columns (total 28 columns):\n",
      " #   Column       Non-Null Count  Dtype  \n",
      "---  ------       --------------  -----  \n",
      " 0   Passengerid  1309 non-null   int64  \n",
      " 1   Age          1309 non-null   float64\n",
      " 2   Fare         1309 non-null   float64\n",
      " 3   Sex          1309 non-null   int64  \n",
      " 4   sibsp        1309 non-null   int64  \n",
      " 5   zero         1309 non-null   int64  \n",
      " 6   zero.1       1309 non-null   int64  \n",
      " 7   zero.2       1309 non-null   int64  \n",
      " 8   zero.3       1309 non-null   int64  \n",
      " 9   zero.4       1309 non-null   int64  \n",
      " 10  zero.5       1309 non-null   int64  \n",
      " 11  zero.6       1309 non-null   int64  \n",
      " 12  Parch        1309 non-null   int64  \n",
      " 13  zero.7       1309 non-null   int64  \n",
      " 14  zero.8       1309 non-null   int64  \n",
      " 15  zero.9       1309 non-null   int64  \n",
      " 16  zero.10      1309 non-null   int64  \n",
      " 17  zero.11      1309 non-null   int64  \n",
      " 18  zero.12      1309 non-null   int64  \n",
      " 19  zero.13      1309 non-null   int64  \n",
      " 20  zero.14      1309 non-null   int64  \n",
      " 21  Pclass       1309 non-null   int64  \n",
      " 22  zero.15      1309 non-null   int64  \n",
      " 23  zero.16      1309 non-null   int64  \n",
      " 24  Embarked     1307 non-null   float64\n",
      " 25  zero.17      1309 non-null   int64  \n",
      " 26  zero.18      1309 non-null   int64  \n",
      " 27  2urvived     1309 non-null   int64  \n",
      "dtypes: float64(3), int64(25)\n",
      "memory usage: 286.5 KB\n"
     ]
    }
   ],
   "source": [
    "df.info()"
   ]
  },
  {
   "cell_type": "code",
   "execution_count": 6,
   "id": "39850a6d",
   "metadata": {
    "execution": {
     "iopub.execute_input": "2024-06-20T17:24:14.752621Z",
     "iopub.status.busy": "2024-06-20T17:24:14.752248Z",
     "iopub.status.idle": "2024-06-20T17:24:14.757989Z",
     "shell.execute_reply": "2024-06-20T17:24:14.757041Z"
    },
    "papermill": {
     "duration": 0.016073,
     "end_time": "2024-06-20T17:24:14.760026",
     "exception": false,
     "start_time": "2024-06-20T17:24:14.743953",
     "status": "completed"
    },
    "tags": []
   },
   "outputs": [],
   "source": [
    "df = df[[\"Pclass\", \"Age\", \"Fare\", \"Sex\", \"2urvived\"]]"
   ]
  },
  {
   "cell_type": "code",
   "execution_count": 7,
   "id": "b877112a",
   "metadata": {
    "execution": {
     "iopub.execute_input": "2024-06-20T17:24:14.776469Z",
     "iopub.status.busy": "2024-06-20T17:24:14.776086Z",
     "iopub.status.idle": "2024-06-20T17:24:14.780799Z",
     "shell.execute_reply": "2024-06-20T17:24:14.779879Z"
    },
    "papermill": {
     "duration": 0.015811,
     "end_time": "2024-06-20T17:24:14.782916",
     "exception": false,
     "start_time": "2024-06-20T17:24:14.767105",
     "status": "completed"
    },
    "tags": []
   },
   "outputs": [],
   "source": [
    "df.columns = [\"Pclass\", \"Age\", \"Fare\", \"Sex\", \"Survived\"]"
   ]
  },
  {
   "cell_type": "code",
   "execution_count": 8,
   "id": "8725daac",
   "metadata": {
    "execution": {
     "iopub.execute_input": "2024-06-20T17:24:14.799256Z",
     "iopub.status.busy": "2024-06-20T17:24:14.798899Z",
     "iopub.status.idle": "2024-06-20T17:24:14.810558Z",
     "shell.execute_reply": "2024-06-20T17:24:14.809330Z"
    },
    "papermill": {
     "duration": 0.022808,
     "end_time": "2024-06-20T17:24:14.812649",
     "exception": false,
     "start_time": "2024-06-20T17:24:14.789841",
     "status": "completed"
    },
    "tags": []
   },
   "outputs": [
    {
     "data": {
      "text/html": [
       "<div>\n",
       "<style scoped>\n",
       "    .dataframe tbody tr th:only-of-type {\n",
       "        vertical-align: middle;\n",
       "    }\n",
       "\n",
       "    .dataframe tbody tr th {\n",
       "        vertical-align: top;\n",
       "    }\n",
       "\n",
       "    .dataframe thead th {\n",
       "        text-align: right;\n",
       "    }\n",
       "</style>\n",
       "<table border=\"1\" class=\"dataframe\">\n",
       "  <thead>\n",
       "    <tr style=\"text-align: right;\">\n",
       "      <th></th>\n",
       "      <th>Pclass</th>\n",
       "      <th>Age</th>\n",
       "      <th>Fare</th>\n",
       "      <th>Sex</th>\n",
       "      <th>Survived</th>\n",
       "    </tr>\n",
       "  </thead>\n",
       "  <tbody>\n",
       "    <tr>\n",
       "      <th>0</th>\n",
       "      <td>3</td>\n",
       "      <td>22.0</td>\n",
       "      <td>7.2500</td>\n",
       "      <td>0</td>\n",
       "      <td>0</td>\n",
       "    </tr>\n",
       "    <tr>\n",
       "      <th>1</th>\n",
       "      <td>1</td>\n",
       "      <td>38.0</td>\n",
       "      <td>71.2833</td>\n",
       "      <td>1</td>\n",
       "      <td>1</td>\n",
       "    </tr>\n",
       "    <tr>\n",
       "      <th>2</th>\n",
       "      <td>3</td>\n",
       "      <td>26.0</td>\n",
       "      <td>7.9250</td>\n",
       "      <td>1</td>\n",
       "      <td>1</td>\n",
       "    </tr>\n",
       "    <tr>\n",
       "      <th>3</th>\n",
       "      <td>1</td>\n",
       "      <td>35.0</td>\n",
       "      <td>53.1000</td>\n",
       "      <td>1</td>\n",
       "      <td>1</td>\n",
       "    </tr>\n",
       "    <tr>\n",
       "      <th>4</th>\n",
       "      <td>3</td>\n",
       "      <td>35.0</td>\n",
       "      <td>8.0500</td>\n",
       "      <td>0</td>\n",
       "      <td>0</td>\n",
       "    </tr>\n",
       "  </tbody>\n",
       "</table>\n",
       "</div>"
      ],
      "text/plain": [
       "   Pclass   Age     Fare  Sex  Survived\n",
       "0       3  22.0   7.2500    0         0\n",
       "1       1  38.0  71.2833    1         1\n",
       "2       3  26.0   7.9250    1         1\n",
       "3       1  35.0  53.1000    1         1\n",
       "4       3  35.0   8.0500    0         0"
      ]
     },
     "execution_count": 8,
     "metadata": {},
     "output_type": "execute_result"
    }
   ],
   "source": [
    "df.head()"
   ]
  },
  {
   "cell_type": "code",
   "execution_count": 9,
   "id": "fae34925",
   "metadata": {
    "execution": {
     "iopub.execute_input": "2024-06-20T17:24:14.829390Z",
     "iopub.status.busy": "2024-06-20T17:24:14.828387Z",
     "iopub.status.idle": "2024-06-20T17:24:14.837153Z",
     "shell.execute_reply": "2024-06-20T17:24:14.836160Z"
    },
    "papermill": {
     "duration": 0.019403,
     "end_time": "2024-06-20T17:24:14.839472",
     "exception": false,
     "start_time": "2024-06-20T17:24:14.820069",
     "status": "completed"
    },
    "tags": []
   },
   "outputs": [
    {
     "data": {
      "text/plain": [
       "Pclass      0\n",
       "Age         0\n",
       "Fare        0\n",
       "Sex         0\n",
       "Survived    0\n",
       "dtype: int64"
      ]
     },
     "execution_count": 9,
     "metadata": {},
     "output_type": "execute_result"
    }
   ],
   "source": [
    "df.isnull().sum()"
   ]
  },
  {
   "cell_type": "code",
   "execution_count": 10,
   "id": "bafc42de",
   "metadata": {
    "execution": {
     "iopub.execute_input": "2024-06-20T17:24:14.856334Z",
     "iopub.status.busy": "2024-06-20T17:24:14.855737Z",
     "iopub.status.idle": "2024-06-20T17:24:14.861497Z",
     "shell.execute_reply": "2024-06-20T17:24:14.860503Z"
    },
    "papermill": {
     "duration": 0.016632,
     "end_time": "2024-06-20T17:24:14.863646",
     "exception": false,
     "start_time": "2024-06-20T17:24:14.847014",
     "status": "completed"
    },
    "tags": []
   },
   "outputs": [],
   "source": [
    "X = df.iloc[:,:-1]\n",
    "y = df.iloc[:,4]"
   ]
  },
  {
   "cell_type": "code",
   "execution_count": 11,
   "id": "ab97db77",
   "metadata": {
    "execution": {
     "iopub.execute_input": "2024-06-20T17:24:14.880006Z",
     "iopub.status.busy": "2024-06-20T17:24:14.879616Z",
     "iopub.status.idle": "2024-06-20T17:24:14.891014Z",
     "shell.execute_reply": "2024-06-20T17:24:14.889894Z"
    },
    "papermill": {
     "duration": 0.02202,
     "end_time": "2024-06-20T17:24:14.893122",
     "exception": false,
     "start_time": "2024-06-20T17:24:14.871102",
     "status": "completed"
    },
    "tags": []
   },
   "outputs": [
    {
     "data": {
      "text/html": [
       "<div>\n",
       "<style scoped>\n",
       "    .dataframe tbody tr th:only-of-type {\n",
       "        vertical-align: middle;\n",
       "    }\n",
       "\n",
       "    .dataframe tbody tr th {\n",
       "        vertical-align: top;\n",
       "    }\n",
       "\n",
       "    .dataframe thead th {\n",
       "        text-align: right;\n",
       "    }\n",
       "</style>\n",
       "<table border=\"1\" class=\"dataframe\">\n",
       "  <thead>\n",
       "    <tr style=\"text-align: right;\">\n",
       "      <th></th>\n",
       "      <th>Pclass</th>\n",
       "      <th>Age</th>\n",
       "      <th>Fare</th>\n",
       "      <th>Sex</th>\n",
       "    </tr>\n",
       "  </thead>\n",
       "  <tbody>\n",
       "    <tr>\n",
       "      <th>0</th>\n",
       "      <td>3</td>\n",
       "      <td>22.0</td>\n",
       "      <td>7.2500</td>\n",
       "      <td>0</td>\n",
       "    </tr>\n",
       "    <tr>\n",
       "      <th>1</th>\n",
       "      <td>1</td>\n",
       "      <td>38.0</td>\n",
       "      <td>71.2833</td>\n",
       "      <td>1</td>\n",
       "    </tr>\n",
       "    <tr>\n",
       "      <th>2</th>\n",
       "      <td>3</td>\n",
       "      <td>26.0</td>\n",
       "      <td>7.9250</td>\n",
       "      <td>1</td>\n",
       "    </tr>\n",
       "    <tr>\n",
       "      <th>3</th>\n",
       "      <td>1</td>\n",
       "      <td>35.0</td>\n",
       "      <td>53.1000</td>\n",
       "      <td>1</td>\n",
       "    </tr>\n",
       "    <tr>\n",
       "      <th>4</th>\n",
       "      <td>3</td>\n",
       "      <td>35.0</td>\n",
       "      <td>8.0500</td>\n",
       "      <td>0</td>\n",
       "    </tr>\n",
       "  </tbody>\n",
       "</table>\n",
       "</div>"
      ],
      "text/plain": [
       "   Pclass   Age     Fare  Sex\n",
       "0       3  22.0   7.2500    0\n",
       "1       1  38.0  71.2833    1\n",
       "2       3  26.0   7.9250    1\n",
       "3       1  35.0  53.1000    1\n",
       "4       3  35.0   8.0500    0"
      ]
     },
     "execution_count": 11,
     "metadata": {},
     "output_type": "execute_result"
    }
   ],
   "source": [
    "X.head()"
   ]
  },
  {
   "cell_type": "code",
   "execution_count": 12,
   "id": "40b9a82a",
   "metadata": {
    "execution": {
     "iopub.execute_input": "2024-06-20T17:24:14.910278Z",
     "iopub.status.busy": "2024-06-20T17:24:14.909552Z",
     "iopub.status.idle": "2024-06-20T17:24:14.916602Z",
     "shell.execute_reply": "2024-06-20T17:24:14.915626Z"
    },
    "papermill": {
     "duration": 0.018062,
     "end_time": "2024-06-20T17:24:14.918780",
     "exception": false,
     "start_time": "2024-06-20T17:24:14.900718",
     "status": "completed"
    },
    "tags": []
   },
   "outputs": [
    {
     "data": {
      "text/plain": [
       "0    0\n",
       "1    1\n",
       "2    1\n",
       "3    1\n",
       "4    0\n",
       "Name: Survived, dtype: int64"
      ]
     },
     "execution_count": 12,
     "metadata": {},
     "output_type": "execute_result"
    }
   ],
   "source": [
    "y.head()"
   ]
  },
  {
   "cell_type": "markdown",
   "id": "8807ea24",
   "metadata": {
    "papermill": {
     "duration": 0.007312,
     "end_time": "2024-06-20T17:24:14.933769",
     "exception": false,
     "start_time": "2024-06-20T17:24:14.926457",
     "status": "completed"
    },
    "tags": []
   },
   "source": [
    "*Splitting the dataset into train and test data*"
   ]
  },
  {
   "cell_type": "code",
   "execution_count": 13,
   "id": "bdca2717",
   "metadata": {
    "execution": {
     "iopub.execute_input": "2024-06-20T17:24:14.951278Z",
     "iopub.status.busy": "2024-06-20T17:24:14.950346Z",
     "iopub.status.idle": "2024-06-20T17:24:16.239202Z",
     "shell.execute_reply": "2024-06-20T17:24:16.238115Z"
    },
    "papermill": {
     "duration": 1.300233,
     "end_time": "2024-06-20T17:24:16.241746",
     "exception": false,
     "start_time": "2024-06-20T17:24:14.941513",
     "status": "completed"
    },
    "tags": []
   },
   "outputs": [],
   "source": [
    "from sklearn.model_selection import train_test_split\n",
    "X_train, X_test, y_train, y_test = train_test_split(X, y, test_size = 0.33, random_state=42)"
   ]
  },
  {
   "cell_type": "code",
   "execution_count": 14,
   "id": "7c479ef4",
   "metadata": {
    "execution": {
     "iopub.execute_input": "2024-06-20T17:24:16.258741Z",
     "iopub.status.busy": "2024-06-20T17:24:16.258335Z",
     "iopub.status.idle": "2024-06-20T17:24:16.263201Z",
     "shell.execute_reply": "2024-06-20T17:24:16.262148Z"
    },
    "papermill": {
     "duration": 0.015882,
     "end_time": "2024-06-20T17:24:16.265398",
     "exception": false,
     "start_time": "2024-06-20T17:24:16.249516",
     "status": "completed"
    },
    "tags": []
   },
   "outputs": [],
   "source": [
    "from sklearn.preprocessing import StandardScaler"
   ]
  },
  {
   "cell_type": "code",
   "execution_count": 15,
   "id": "06367c1d",
   "metadata": {
    "execution": {
     "iopub.execute_input": "2024-06-20T17:24:16.281987Z",
     "iopub.status.busy": "2024-06-20T17:24:16.281635Z",
     "iopub.status.idle": "2024-06-20T17:24:16.290963Z",
     "shell.execute_reply": "2024-06-20T17:24:16.290085Z"
    },
    "papermill": {
     "duration": 0.020157,
     "end_time": "2024-06-20T17:24:16.293123",
     "exception": false,
     "start_time": "2024-06-20T17:24:16.272966",
     "status": "completed"
    },
    "tags": []
   },
   "outputs": [],
   "source": [
    "scaler = StandardScaler()\n",
    "X_train_scaled = scaler.fit_transform(X_train)"
   ]
  },
  {
   "cell_type": "code",
   "execution_count": 16,
   "id": "9a199943",
   "metadata": {
    "execution": {
     "iopub.execute_input": "2024-06-20T17:24:16.310263Z",
     "iopub.status.busy": "2024-06-20T17:24:16.309380Z",
     "iopub.status.idle": "2024-06-20T17:24:16.317355Z",
     "shell.execute_reply": "2024-06-20T17:24:16.316330Z"
    },
    "papermill": {
     "duration": 0.018707,
     "end_time": "2024-06-20T17:24:16.319480",
     "exception": false,
     "start_time": "2024-06-20T17:24:16.300773",
     "status": "completed"
    },
    "tags": []
   },
   "outputs": [
    {
     "data": {
      "text/plain": [
       "array([[ 0.85920374, -0.60169694, -0.52828855,  1.37636821],\n",
       "       [ 0.85920374, -0.12437351, -0.38428307,  1.37636821],\n",
       "       [ 0.85920374, -0.68125085, -0.51230637, -0.72654977],\n",
       "       ...,\n",
       "       [-1.5103613 , -0.99946647,  0.26782405, -0.72654977],\n",
       "       [ 0.85920374,  0.90982727, -0.39127528, -0.72654977],\n",
       "       [ 0.85920374, -0.76080475, -0.51621801, -0.72654977]])"
      ]
     },
     "execution_count": 16,
     "metadata": {},
     "output_type": "execute_result"
    }
   ],
   "source": [
    "X_train_scaled"
   ]
  },
  {
   "cell_type": "code",
   "execution_count": 17,
   "id": "40522b57",
   "metadata": {
    "execution": {
     "iopub.execute_input": "2024-06-20T17:24:16.336857Z",
     "iopub.status.busy": "2024-06-20T17:24:16.335946Z",
     "iopub.status.idle": "2024-06-20T17:24:16.347286Z",
     "shell.execute_reply": "2024-06-20T17:24:16.346212Z"
    },
    "papermill": {
     "duration": 0.022179,
     "end_time": "2024-06-20T17:24:16.349264",
     "exception": false,
     "start_time": "2024-06-20T17:24:16.327085",
     "status": "completed"
    },
    "tags": []
   },
   "outputs": [
    {
     "data": {
      "text/html": [
       "<div>\n",
       "<style scoped>\n",
       "    .dataframe tbody tr th:only-of-type {\n",
       "        vertical-align: middle;\n",
       "    }\n",
       "\n",
       "    .dataframe tbody tr th {\n",
       "        vertical-align: top;\n",
       "    }\n",
       "\n",
       "    .dataframe thead th {\n",
       "        text-align: right;\n",
       "    }\n",
       "</style>\n",
       "<table border=\"1\" class=\"dataframe\">\n",
       "  <thead>\n",
       "    <tr style=\"text-align: right;\">\n",
       "      <th></th>\n",
       "      <th>Pclass</th>\n",
       "      <th>Age</th>\n",
       "      <th>Fare</th>\n",
       "      <th>Sex</th>\n",
       "    </tr>\n",
       "  </thead>\n",
       "  <tbody>\n",
       "    <tr>\n",
       "      <th>1148</th>\n",
       "      <td>3</td>\n",
       "      <td>28.0</td>\n",
       "      <td>8.050</td>\n",
       "      <td>0</td>\n",
       "    </tr>\n",
       "    <tr>\n",
       "      <th>1049</th>\n",
       "      <td>1</td>\n",
       "      <td>42.0</td>\n",
       "      <td>26.550</td>\n",
       "      <td>0</td>\n",
       "    </tr>\n",
       "    <tr>\n",
       "      <th>982</th>\n",
       "      <td>3</td>\n",
       "      <td>28.0</td>\n",
       "      <td>7.775</td>\n",
       "      <td>0</td>\n",
       "    </tr>\n",
       "    <tr>\n",
       "      <th>808</th>\n",
       "      <td>2</td>\n",
       "      <td>39.0</td>\n",
       "      <td>13.000</td>\n",
       "      <td>0</td>\n",
       "    </tr>\n",
       "    <tr>\n",
       "      <th>1195</th>\n",
       "      <td>3</td>\n",
       "      <td>28.0</td>\n",
       "      <td>7.750</td>\n",
       "      <td>1</td>\n",
       "    </tr>\n",
       "  </tbody>\n",
       "</table>\n",
       "</div>"
      ],
      "text/plain": [
       "      Pclass   Age    Fare  Sex\n",
       "1148       3  28.0   8.050    0\n",
       "1049       1  42.0  26.550    0\n",
       "982        3  28.0   7.775    0\n",
       "808        2  39.0  13.000    0\n",
       "1195       3  28.0   7.750    1"
      ]
     },
     "execution_count": 17,
     "metadata": {},
     "output_type": "execute_result"
    }
   ],
   "source": [
    "X_test.head()"
   ]
  },
  {
   "cell_type": "code",
   "execution_count": 18,
   "id": "8c69ea0b",
   "metadata": {
    "execution": {
     "iopub.execute_input": "2024-06-20T17:24:16.367364Z",
     "iopub.status.busy": "2024-06-20T17:24:16.366081Z",
     "iopub.status.idle": "2024-06-20T17:24:16.373087Z",
     "shell.execute_reply": "2024-06-20T17:24:16.372068Z"
    },
    "papermill": {
     "duration": 0.018304,
     "end_time": "2024-06-20T17:24:16.375393",
     "exception": false,
     "start_time": "2024-06-20T17:24:16.357089",
     "status": "completed"
    },
    "tags": []
   },
   "outputs": [],
   "source": [
    "X_test_scaled = scaler.transform(X_test)"
   ]
  },
  {
   "cell_type": "code",
   "execution_count": 19,
   "id": "d500aba4",
   "metadata": {
    "execution": {
     "iopub.execute_input": "2024-06-20T17:24:16.393239Z",
     "iopub.status.busy": "2024-06-20T17:24:16.392744Z",
     "iopub.status.idle": "2024-06-20T17:24:16.399862Z",
     "shell.execute_reply": "2024-06-20T17:24:16.398830Z"
    },
    "papermill": {
     "duration": 0.018468,
     "end_time": "2024-06-20T17:24:16.401934",
     "exception": false,
     "start_time": "2024-06-20T17:24:16.383466",
     "status": "completed"
    },
    "tags": []
   },
   "outputs": [
    {
     "data": {
      "text/plain": [
       "array([[ 0.85920374, -0.12437351, -0.51230637, -0.72654977],\n",
       "       [-1.5103613 ,  0.98938117, -0.14271833, -0.72654977],\n",
       "       [ 0.85920374, -0.12437351, -0.51780024, -0.72654977],\n",
       "       ...,\n",
       "       [ 0.85920374,  0.07451126, -0.51230637, -0.72654977],\n",
       "       [ 0.85920374, -0.91991256, -0.51230637,  1.37636821],\n",
       "       [ 0.85920374,  0.75071946, -0.09127567,  1.37636821]])"
      ]
     },
     "execution_count": 19,
     "metadata": {},
     "output_type": "execute_result"
    }
   ],
   "source": [
    "X_test_scaled"
   ]
  },
  {
   "cell_type": "code",
   "execution_count": 20,
   "id": "77c5519e",
   "metadata": {
    "execution": {
     "iopub.execute_input": "2024-06-20T17:24:16.420332Z",
     "iopub.status.busy": "2024-06-20T17:24:16.419311Z",
     "iopub.status.idle": "2024-06-20T17:24:16.509608Z",
     "shell.execute_reply": "2024-06-20T17:24:16.508656Z"
    },
    "papermill": {
     "duration": 0.102169,
     "end_time": "2024-06-20T17:24:16.512162",
     "exception": false,
     "start_time": "2024-06-20T17:24:16.409993",
     "status": "completed"
    },
    "tags": []
   },
   "outputs": [],
   "source": [
    "from sklearn.linear_model import LogisticRegression\n",
    "classification = LogisticRegression()"
   ]
  },
  {
   "cell_type": "code",
   "execution_count": 21,
   "id": "a60cf2b2",
   "metadata": {
    "execution": {
     "iopub.execute_input": "2024-06-20T17:24:16.530519Z",
     "iopub.status.busy": "2024-06-20T17:24:16.530110Z",
     "iopub.status.idle": "2024-06-20T17:24:16.550256Z",
     "shell.execute_reply": "2024-06-20T17:24:16.549141Z"
    },
    "papermill": {
     "duration": 0.032005,
     "end_time": "2024-06-20T17:24:16.552507",
     "exception": false,
     "start_time": "2024-06-20T17:24:16.520502",
     "status": "completed"
    },
    "tags": []
   },
   "outputs": [
    {
     "data": {
      "text/html": [
       "<style>#sk-container-id-1 {color: black;background-color: white;}#sk-container-id-1 pre{padding: 0;}#sk-container-id-1 div.sk-toggleable {background-color: white;}#sk-container-id-1 label.sk-toggleable__label {cursor: pointer;display: block;width: 100%;margin-bottom: 0;padding: 0.3em;box-sizing: border-box;text-align: center;}#sk-container-id-1 label.sk-toggleable__label-arrow:before {content: \"▸\";float: left;margin-right: 0.25em;color: #696969;}#sk-container-id-1 label.sk-toggleable__label-arrow:hover:before {color: black;}#sk-container-id-1 div.sk-estimator:hover label.sk-toggleable__label-arrow:before {color: black;}#sk-container-id-1 div.sk-toggleable__content {max-height: 0;max-width: 0;overflow: hidden;text-align: left;background-color: #f0f8ff;}#sk-container-id-1 div.sk-toggleable__content pre {margin: 0.2em;color: black;border-radius: 0.25em;background-color: #f0f8ff;}#sk-container-id-1 input.sk-toggleable__control:checked~div.sk-toggleable__content {max-height: 200px;max-width: 100%;overflow: auto;}#sk-container-id-1 input.sk-toggleable__control:checked~label.sk-toggleable__label-arrow:before {content: \"▾\";}#sk-container-id-1 div.sk-estimator input.sk-toggleable__control:checked~label.sk-toggleable__label {background-color: #d4ebff;}#sk-container-id-1 div.sk-label input.sk-toggleable__control:checked~label.sk-toggleable__label {background-color: #d4ebff;}#sk-container-id-1 input.sk-hidden--visually {border: 0;clip: rect(1px 1px 1px 1px);clip: rect(1px, 1px, 1px, 1px);height: 1px;margin: -1px;overflow: hidden;padding: 0;position: absolute;width: 1px;}#sk-container-id-1 div.sk-estimator {font-family: monospace;background-color: #f0f8ff;border: 1px dotted black;border-radius: 0.25em;box-sizing: border-box;margin-bottom: 0.5em;}#sk-container-id-1 div.sk-estimator:hover {background-color: #d4ebff;}#sk-container-id-1 div.sk-parallel-item::after {content: \"\";width: 100%;border-bottom: 1px solid gray;flex-grow: 1;}#sk-container-id-1 div.sk-label:hover label.sk-toggleable__label {background-color: #d4ebff;}#sk-container-id-1 div.sk-serial::before {content: \"\";position: absolute;border-left: 1px solid gray;box-sizing: border-box;top: 0;bottom: 0;left: 50%;z-index: 0;}#sk-container-id-1 div.sk-serial {display: flex;flex-direction: column;align-items: center;background-color: white;padding-right: 0.2em;padding-left: 0.2em;position: relative;}#sk-container-id-1 div.sk-item {position: relative;z-index: 1;}#sk-container-id-1 div.sk-parallel {display: flex;align-items: stretch;justify-content: center;background-color: white;position: relative;}#sk-container-id-1 div.sk-item::before, #sk-container-id-1 div.sk-parallel-item::before {content: \"\";position: absolute;border-left: 1px solid gray;box-sizing: border-box;top: 0;bottom: 0;left: 50%;z-index: -1;}#sk-container-id-1 div.sk-parallel-item {display: flex;flex-direction: column;z-index: 1;position: relative;background-color: white;}#sk-container-id-1 div.sk-parallel-item:first-child::after {align-self: flex-end;width: 50%;}#sk-container-id-1 div.sk-parallel-item:last-child::after {align-self: flex-start;width: 50%;}#sk-container-id-1 div.sk-parallel-item:only-child::after {width: 0;}#sk-container-id-1 div.sk-dashed-wrapped {border: 1px dashed gray;margin: 0 0.4em 0.5em 0.4em;box-sizing: border-box;padding-bottom: 0.4em;background-color: white;}#sk-container-id-1 div.sk-label label {font-family: monospace;font-weight: bold;display: inline-block;line-height: 1.2em;}#sk-container-id-1 div.sk-label-container {text-align: center;}#sk-container-id-1 div.sk-container {/* jupyter's `normalize.less` sets `[hidden] { display: none; }` but bootstrap.min.css set `[hidden] { display: none !important; }` so we also need the `!important` here to be able to override the default hidden behavior on the sphinx rendered scikit-learn.org. See: https://github.com/scikit-learn/scikit-learn/issues/21755 */display: inline-block !important;position: relative;}#sk-container-id-1 div.sk-text-repr-fallback {display: none;}</style><div id=\"sk-container-id-1\" class=\"sk-top-container\"><div class=\"sk-text-repr-fallback\"><pre>LogisticRegression()</pre><b>In a Jupyter environment, please rerun this cell to show the HTML representation or trust the notebook. <br />On GitHub, the HTML representation is unable to render, please try loading this page with nbviewer.org.</b></div><div class=\"sk-container\" hidden><div class=\"sk-item\"><div class=\"sk-estimator sk-toggleable\"><input class=\"sk-toggleable__control sk-hidden--visually\" id=\"sk-estimator-id-1\" type=\"checkbox\" checked><label for=\"sk-estimator-id-1\" class=\"sk-toggleable__label sk-toggleable__label-arrow\">LogisticRegression</label><div class=\"sk-toggleable__content\"><pre>LogisticRegression()</pre></div></div></div></div></div>"
      ],
      "text/plain": [
       "LogisticRegression()"
      ]
     },
     "execution_count": 21,
     "metadata": {},
     "output_type": "execute_result"
    }
   ],
   "source": [
    "classification.fit(X_train_scaled, y_train)"
   ]
  },
  {
   "cell_type": "code",
   "execution_count": 22,
   "id": "641837e6",
   "metadata": {
    "execution": {
     "iopub.execute_input": "2024-06-20T17:24:16.570815Z",
     "iopub.status.busy": "2024-06-20T17:24:16.570439Z",
     "iopub.status.idle": "2024-06-20T17:24:16.575630Z",
     "shell.execute_reply": "2024-06-20T17:24:16.574610Z"
    },
    "papermill": {
     "duration": 0.016749,
     "end_time": "2024-06-20T17:24:16.577732",
     "exception": false,
     "start_time": "2024-06-20T17:24:16.560983",
     "status": "completed"
    },
    "tags": []
   },
   "outputs": [],
   "source": [
    "ypred = classification.predict(X_test_scaled)"
   ]
  },
  {
   "cell_type": "code",
   "execution_count": 23,
   "id": "6cb81fcb",
   "metadata": {
    "execution": {
     "iopub.execute_input": "2024-06-20T17:24:16.596163Z",
     "iopub.status.busy": "2024-06-20T17:24:16.595784Z",
     "iopub.status.idle": "2024-06-20T17:24:16.603070Z",
     "shell.execute_reply": "2024-06-20T17:24:16.602150Z"
    },
    "papermill": {
     "duration": 0.019069,
     "end_time": "2024-06-20T17:24:16.605284",
     "exception": false,
     "start_time": "2024-06-20T17:24:16.586215",
     "status": "completed"
    },
    "tags": []
   },
   "outputs": [
    {
     "data": {
      "text/plain": [
       "array([0, 0, 0, 0, 0, 0, 0, 1, 0, 0, 0, 0, 0, 1, 0, 1, 0, 0, 0, 0, 0, 0,\n",
       "       0, 0, 0, 0, 0, 0, 0, 0, 0, 1, 0, 0, 0, 0, 0, 0, 0, 0, 0, 0, 0, 0,\n",
       "       0, 0, 0, 0, 0, 1, 0, 1, 0, 0, 1, 0, 0, 0, 0, 0, 0, 0, 1, 0, 1, 0,\n",
       "       1, 0, 0, 0, 0, 0, 0, 0, 0, 0, 0, 0, 1, 0, 1, 0, 0, 0, 0, 0, 0, 0,\n",
       "       1, 0, 0, 0, 0, 0, 0, 0, 0, 0, 1, 0, 0, 0, 0, 0, 0, 0, 1, 0, 0, 0,\n",
       "       0, 0, 0, 0, 1, 0, 0, 0, 0, 0, 0, 1, 0, 0, 0, 0, 0, 0, 0, 1, 0, 1,\n",
       "       0, 1, 0, 0, 1, 0, 0, 0, 0, 0, 0, 0, 0, 1, 0, 0, 0, 0, 0, 0, 0, 0,\n",
       "       0, 1, 0, 1, 0, 0, 0, 0, 0, 0, 0, 0, 0, 0, 0, 0, 0, 0, 0, 1, 0, 1,\n",
       "       0, 0, 0, 0, 0, 0, 0, 1, 1, 0, 0, 0, 0, 0, 0, 0, 0, 0, 0, 0, 1, 0,\n",
       "       0, 0, 0, 0, 0, 0, 0, 0, 0, 0, 0, 0, 0, 0, 0, 0, 0, 0, 1, 1, 0, 0,\n",
       "       0, 0, 0, 0, 0, 0, 0, 0, 0, 0, 1, 0, 0, 1, 1, 0, 1, 0, 1, 0, 0, 0,\n",
       "       0, 0, 0, 0, 0, 0, 0, 0, 0, 0, 0, 1, 0, 0, 0, 0, 0, 0, 1, 1, 0, 0,\n",
       "       0, 0, 0, 0, 1, 0, 0, 0, 0, 0, 0, 0, 0, 0, 0, 1, 0, 0, 0, 0, 0, 0,\n",
       "       0, 0, 0, 0, 0, 0, 0, 0, 1, 0, 0, 1, 0, 0, 1, 1, 0, 0, 0, 1, 0, 0,\n",
       "       0, 0, 0, 0, 0, 0, 0, 0, 1, 0, 0, 0, 0, 1, 0, 1, 1, 0, 0, 0, 1, 0,\n",
       "       1, 0, 0, 0, 0, 0, 0, 0, 0, 1, 0, 0, 0, 0, 0, 0, 0, 0, 0, 0, 0, 0,\n",
       "       0, 0, 0, 0, 1, 1, 0, 0, 0, 0, 0, 0, 1, 0, 0, 0, 0, 0, 0, 0, 0, 0,\n",
       "       0, 0, 0, 0, 0, 0, 0, 0, 0, 0, 0, 0, 1, 0, 1, 0, 0, 0, 1, 0, 0, 0,\n",
       "       0, 0, 0, 0, 0, 0, 0, 0, 0, 1, 0, 0, 0, 0, 1, 0, 0, 0, 0, 1, 1, 1,\n",
       "       1, 0, 0, 0, 0, 0, 0, 1, 0, 0, 0, 0, 0, 0])"
      ]
     },
     "execution_count": 23,
     "metadata": {},
     "output_type": "execute_result"
    }
   ],
   "source": [
    "ypred"
   ]
  },
  {
   "cell_type": "code",
   "execution_count": 24,
   "id": "332dc7ca",
   "metadata": {
    "execution": {
     "iopub.execute_input": "2024-06-20T17:24:16.624000Z",
     "iopub.status.busy": "2024-06-20T17:24:16.623631Z",
     "iopub.status.idle": "2024-06-20T17:24:16.628491Z",
     "shell.execute_reply": "2024-06-20T17:24:16.627326Z"
    },
    "papermill": {
     "duration": 0.016787,
     "end_time": "2024-06-20T17:24:16.630800",
     "exception": false,
     "start_time": "2024-06-20T17:24:16.614013",
     "status": "completed"
    },
    "tags": []
   },
   "outputs": [],
   "source": [
    "from sklearn.metrics import classification_report, confusion_matrix"
   ]
  },
  {
   "cell_type": "code",
   "execution_count": 25,
   "id": "291276e8",
   "metadata": {
    "execution": {
     "iopub.execute_input": "2024-06-20T17:24:16.649792Z",
     "iopub.status.busy": "2024-06-20T17:24:16.649397Z",
     "iopub.status.idle": "2024-06-20T17:24:16.664076Z",
     "shell.execute_reply": "2024-06-20T17:24:16.662781Z"
    },
    "papermill": {
     "duration": 0.026753,
     "end_time": "2024-06-20T17:24:16.666318",
     "exception": false,
     "start_time": "2024-06-20T17:24:16.639565",
     "status": "completed"
    },
    "tags": []
   },
   "outputs": [
    {
     "name": "stdout",
     "output_type": "stream",
     "text": [
      "              precision    recall  f1-score   support\n",
      "\n",
      "           0       0.81      0.93      0.87       318\n",
      "           1       0.67      0.39      0.49       114\n",
      "\n",
      "    accuracy                           0.79       432\n",
      "   macro avg       0.74      0.66      0.68       432\n",
      "weighted avg       0.77      0.79      0.77       432\n",
      "\n"
     ]
    }
   ],
   "source": [
    "print(classification_report(y_test, ypred))"
   ]
  },
  {
   "cell_type": "code",
   "execution_count": 26,
   "id": "ed9db922",
   "metadata": {
    "execution": {
     "iopub.execute_input": "2024-06-20T17:24:16.685018Z",
     "iopub.status.busy": "2024-06-20T17:24:16.684324Z",
     "iopub.status.idle": "2024-06-20T17:24:16.693081Z",
     "shell.execute_reply": "2024-06-20T17:24:16.692105Z"
    },
    "papermill": {
     "duration": 0.020459,
     "end_time": "2024-06-20T17:24:16.695245",
     "exception": false,
     "start_time": "2024-06-20T17:24:16.674786",
     "status": "completed"
    },
    "tags": []
   },
   "outputs": [
    {
     "data": {
      "text/plain": [
       "array([[296,  22],\n",
       "       [ 70,  44]])"
      ]
     },
     "execution_count": 26,
     "metadata": {},
     "output_type": "execute_result"
    }
   ],
   "source": [
    "confusion_matrix(y_test, ypred)"
   ]
  },
  {
   "cell_type": "markdown",
   "id": "e8271ea1",
   "metadata": {
    "papermill": {
     "duration": 0.008271,
     "end_time": "2024-06-20T17:24:16.712132",
     "exception": false,
     "start_time": "2024-06-20T17:24:16.703861",
     "status": "completed"
    },
    "tags": []
   },
   "source": [
    "*accuracy=(296+44)/(296+22+70+44) \n",
    "=>0.78703\n",
    "=>~0.79.*\n",
    "*hence, we got accuracy of 0.79 for the Logistic Regression model.*"
   ]
  }
 ],
 "metadata": {
  "kaggle": {
   "accelerator": "none",
   "dataSources": [
    {
     "datasetId": 1275,
     "sourceId": 2286,
     "sourceType": "datasetVersion"
    }
   ],
   "dockerImageVersionId": 30646,
   "isGpuEnabled": false,
   "isInternetEnabled": false,
   "language": "python",
   "sourceType": "notebook"
  },
  "kernelspec": {
   "display_name": "Python 3",
   "language": "python",
   "name": "python3"
  },
  "language_info": {
   "codemirror_mode": {
    "name": "ipython",
    "version": 3
   },
   "file_extension": ".py",
   "mimetype": "text/x-python",
   "name": "python",
   "nbconvert_exporter": "python",
   "pygments_lexer": "ipython3",
   "version": "3.10.13"
  },
  "papermill": {
   "default_parameters": {},
   "duration": 6.336664,
   "end_time": "2024-06-20T17:24:17.341266",
   "environment_variables": {},
   "exception": null,
   "input_path": "__notebook__.ipynb",
   "output_path": "__notebook__.ipynb",
   "parameters": {},
   "start_time": "2024-06-20T17:24:11.004602",
   "version": "2.5.0"
  }
 },
 "nbformat": 4,
 "nbformat_minor": 5
}

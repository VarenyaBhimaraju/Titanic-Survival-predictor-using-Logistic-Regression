{
 "cells": [
  {
   "cell_type": "code",
   "execution_count": 1,
   "id": "bd296612",
   "metadata": {
    "_cell_guid": "b1076dfc-b9ad-4769-8c92-a6c4dae69d19",
    "_uuid": "8f2839f25d086af736a60e9eeb907d3b93b6e0e5",
    "execution": {
     "iopub.execute_input": "2024-06-20T17:23:23.331033Z",
     "iopub.status.busy": "2024-06-20T17:23:23.330577Z",
     "iopub.status.idle": "2024-06-20T17:23:23.358718Z",
     "shell.execute_reply": "2024-06-20T17:23:23.357312Z"
    },
    "papermill": {
     "duration": 0.043463,
     "end_time": "2024-06-20T17:23:23.361770",
     "exception": false,
     "start_time": "2024-06-20T17:23:23.318307",
     "status": "completed"
    },
    "tags": []
   },
   "outputs": [
    {
     "name": "stdout",
     "output_type": "stream",
     "text": [
      "/kaggle/input/titanic/train_and_test2.csv\n"
     ]
    }
   ],
   "source": [
    "# Environment Setting\n",
    "\n",
    "import os\n",
    "for dirname, _, filenames in os.walk('/kaggle/input'):\n",
    "    for filename in filenames:\n",
    "        print(os.path.join(dirname, filename))"
   ]
  },
  {
   "cell_type": "markdown",
   "id": "8da02be4",
   "metadata": {
    "papermill": {
     "duration": 0.009553,
     "end_time": "2024-06-20T17:23:23.381878",
     "exception": false,
     "start_time": "2024-06-20T17:23:23.372325",
     "status": "completed"
    },
    "tags": []
   },
   "source": [
    "*Importing Required Libraries*"
   ]
  },
  {
   "cell_type": "code",
   "execution_count": 2,
   "id": "b160c190",
   "metadata": {
    "execution": {
     "iopub.execute_input": "2024-06-20T17:23:23.405091Z",
     "iopub.status.busy": "2024-06-20T17:23:23.404651Z",
     "iopub.status.idle": "2024-06-20T17:23:24.536286Z",
     "shell.execute_reply": "2024-06-20T17:23:24.535180Z"
    },
    "papermill": {
     "duration": 1.146707,
     "end_time": "2024-06-20T17:23:24.539297",
     "exception": false,
     "start_time": "2024-06-20T17:23:23.392590",
     "status": "completed"
    },
    "tags": []
   },
   "outputs": [],
   "source": [
    "import pandas as pd"
   ]
  },
  {
   "cell_type": "code",
   "execution_count": 3,
   "id": "a46af352",
   "metadata": {
    "execution": {
     "iopub.execute_input": "2024-06-20T17:23:24.561581Z",
     "iopub.status.busy": "2024-06-20T17:23:24.561025Z",
     "iopub.status.idle": "2024-06-20T17:23:24.594227Z",
     "shell.execute_reply": "2024-06-20T17:23:24.592829Z"
    },
    "papermill": {
     "duration": 0.047906,
     "end_time": "2024-06-20T17:23:24.597212",
     "exception": false,
     "start_time": "2024-06-20T17:23:24.549306",
     "status": "completed"
    },
    "tags": []
   },
   "outputs": [],
   "source": [
    "df = pd.read_csv(\"/kaggle/input/titanic/train_and_test2.csv\")"
   ]
  },
  {
   "cell_type": "code",
   "execution_count": 4,
   "id": "1dedbdcb",
   "metadata": {
    "execution": {
     "iopub.execute_input": "2024-06-20T17:23:24.619196Z",
     "iopub.status.busy": "2024-06-20T17:23:24.618745Z",
     "iopub.status.idle": "2024-06-20T17:23:24.657240Z",
     "shell.execute_reply": "2024-06-20T17:23:24.656077Z"
    },
    "papermill": {
     "duration": 0.053217,
     "end_time": "2024-06-20T17:23:24.660113",
     "exception": false,
     "start_time": "2024-06-20T17:23:24.606896",
     "status": "completed"
    },
    "tags": []
   },
   "outputs": [
    {
     "data": {
      "text/html": [
       "<div>\n",
       "<style scoped>\n",
       "    .dataframe tbody tr th:only-of-type {\n",
       "        vertical-align: middle;\n",
       "    }\n",
       "\n",
       "    .dataframe tbody tr th {\n",
       "        vertical-align: top;\n",
       "    }\n",
       "\n",
       "    .dataframe thead th {\n",
       "        text-align: right;\n",
       "    }\n",
       "</style>\n",
       "<table border=\"1\" class=\"dataframe\">\n",
       "  <thead>\n",
       "    <tr style=\"text-align: right;\">\n",
       "      <th></th>\n",
       "      <th>Passengerid</th>\n",
       "      <th>Age</th>\n",
       "      <th>Fare</th>\n",
       "      <th>Sex</th>\n",
       "      <th>sibsp</th>\n",
       "      <th>zero</th>\n",
       "      <th>zero.1</th>\n",
       "      <th>zero.2</th>\n",
       "      <th>zero.3</th>\n",
       "      <th>zero.4</th>\n",
       "      <th>...</th>\n",
       "      <th>zero.12</th>\n",
       "      <th>zero.13</th>\n",
       "      <th>zero.14</th>\n",
       "      <th>Pclass</th>\n",
       "      <th>zero.15</th>\n",
       "      <th>zero.16</th>\n",
       "      <th>Embarked</th>\n",
       "      <th>zero.17</th>\n",
       "      <th>zero.18</th>\n",
       "      <th>2urvived</th>\n",
       "    </tr>\n",
       "  </thead>\n",
       "  <tbody>\n",
       "    <tr>\n",
       "      <th>0</th>\n",
       "      <td>1</td>\n",
       "      <td>22.0</td>\n",
       "      <td>7.2500</td>\n",
       "      <td>0</td>\n",
       "      <td>1</td>\n",
       "      <td>0</td>\n",
       "      <td>0</td>\n",
       "      <td>0</td>\n",
       "      <td>0</td>\n",
       "      <td>0</td>\n",
       "      <td>...</td>\n",
       "      <td>0</td>\n",
       "      <td>0</td>\n",
       "      <td>0</td>\n",
       "      <td>3</td>\n",
       "      <td>0</td>\n",
       "      <td>0</td>\n",
       "      <td>2.0</td>\n",
       "      <td>0</td>\n",
       "      <td>0</td>\n",
       "      <td>0</td>\n",
       "    </tr>\n",
       "    <tr>\n",
       "      <th>1</th>\n",
       "      <td>2</td>\n",
       "      <td>38.0</td>\n",
       "      <td>71.2833</td>\n",
       "      <td>1</td>\n",
       "      <td>1</td>\n",
       "      <td>0</td>\n",
       "      <td>0</td>\n",
       "      <td>0</td>\n",
       "      <td>0</td>\n",
       "      <td>0</td>\n",
       "      <td>...</td>\n",
       "      <td>0</td>\n",
       "      <td>0</td>\n",
       "      <td>0</td>\n",
       "      <td>1</td>\n",
       "      <td>0</td>\n",
       "      <td>0</td>\n",
       "      <td>0.0</td>\n",
       "      <td>0</td>\n",
       "      <td>0</td>\n",
       "      <td>1</td>\n",
       "    </tr>\n",
       "    <tr>\n",
       "      <th>2</th>\n",
       "      <td>3</td>\n",
       "      <td>26.0</td>\n",
       "      <td>7.9250</td>\n",
       "      <td>1</td>\n",
       "      <td>0</td>\n",
       "      <td>0</td>\n",
       "      <td>0</td>\n",
       "      <td>0</td>\n",
       "      <td>0</td>\n",
       "      <td>0</td>\n",
       "      <td>...</td>\n",
       "      <td>0</td>\n",
       "      <td>0</td>\n",
       "      <td>0</td>\n",
       "      <td>3</td>\n",
       "      <td>0</td>\n",
       "      <td>0</td>\n",
       "      <td>2.0</td>\n",
       "      <td>0</td>\n",
       "      <td>0</td>\n",
       "      <td>1</td>\n",
       "    </tr>\n",
       "    <tr>\n",
       "      <th>3</th>\n",
       "      <td>4</td>\n",
       "      <td>35.0</td>\n",
       "      <td>53.1000</td>\n",
       "      <td>1</td>\n",
       "      <td>1</td>\n",
       "      <td>0</td>\n",
       "      <td>0</td>\n",
       "      <td>0</td>\n",
       "      <td>0</td>\n",
       "      <td>0</td>\n",
       "      <td>...</td>\n",
       "      <td>0</td>\n",
       "      <td>0</td>\n",
       "      <td>0</td>\n",
       "      <td>1</td>\n",
       "      <td>0</td>\n",
       "      <td>0</td>\n",
       "      <td>2.0</td>\n",
       "      <td>0</td>\n",
       "      <td>0</td>\n",
       "      <td>1</td>\n",
       "    </tr>\n",
       "    <tr>\n",
       "      <th>4</th>\n",
       "      <td>5</td>\n",
       "      <td>35.0</td>\n",
       "      <td>8.0500</td>\n",
       "      <td>0</td>\n",
       "      <td>0</td>\n",
       "      <td>0</td>\n",
       "      <td>0</td>\n",
       "      <td>0</td>\n",
       "      <td>0</td>\n",
       "      <td>0</td>\n",
       "      <td>...</td>\n",
       "      <td>0</td>\n",
       "      <td>0</td>\n",
       "      <td>0</td>\n",
       "      <td>3</td>\n",
       "      <td>0</td>\n",
       "      <td>0</td>\n",
       "      <td>2.0</td>\n",
       "      <td>0</td>\n",
       "      <td>0</td>\n",
       "      <td>0</td>\n",
       "    </tr>\n",
       "  </tbody>\n",
       "</table>\n",
       "<p>5 rows × 28 columns</p>\n",
       "</div>"
      ],
      "text/plain": [
       "   Passengerid   Age     Fare  Sex  sibsp  zero  zero.1  zero.2  zero.3  \\\n",
       "0            1  22.0   7.2500    0      1     0       0       0       0   \n",
       "1            2  38.0  71.2833    1      1     0       0       0       0   \n",
       "2            3  26.0   7.9250    1      0     0       0       0       0   \n",
       "3            4  35.0  53.1000    1      1     0       0       0       0   \n",
       "4            5  35.0   8.0500    0      0     0       0       0       0   \n",
       "\n",
       "   zero.4  ...  zero.12  zero.13  zero.14  Pclass  zero.15  zero.16  Embarked  \\\n",
       "0       0  ...        0        0        0       3        0        0       2.0   \n",
       "1       0  ...        0        0        0       1        0        0       0.0   \n",
       "2       0  ...        0        0        0       3        0        0       2.0   \n",
       "3       0  ...        0        0        0       1        0        0       2.0   \n",
       "4       0  ...        0        0        0       3        0        0       2.0   \n",
       "\n",
       "   zero.17  zero.18  2urvived  \n",
       "0        0        0         0  \n",
       "1        0        0         1  \n",
       "2        0        0         1  \n",
       "3        0        0         1  \n",
       "4        0        0         0  \n",
       "\n",
       "[5 rows x 28 columns]"
      ]
     },
     "execution_count": 4,
     "metadata": {},
     "output_type": "execute_result"
    }
   ],
   "source": [
    "df.head()"
   ]
  },
  {
   "cell_type": "code",
   "execution_count": 5,
   "id": "afc27ff3",
   "metadata": {
    "execution": {
     "iopub.execute_input": "2024-06-20T17:23:24.682133Z",
     "iopub.status.busy": "2024-06-20T17:23:24.681693Z",
     "iopub.status.idle": "2024-06-20T17:23:24.710502Z",
     "shell.execute_reply": "2024-06-20T17:23:24.709232Z"
    },
    "papermill": {
     "duration": 0.043326,
     "end_time": "2024-06-20T17:23:24.713512",
     "exception": false,
     "start_time": "2024-06-20T17:23:24.670186",
     "status": "completed"
    },
    "tags": []
   },
   "outputs": [
    {
     "name": "stdout",
     "output_type": "stream",
     "text": [
      "<class 'pandas.core.frame.DataFrame'>\n",
      "RangeIndex: 1309 entries, 0 to 1308\n",
      "Data columns (total 28 columns):\n",
      " #   Column       Non-Null Count  Dtype  \n",
      "---  ------       --------------  -----  \n",
      " 0   Passengerid  1309 non-null   int64  \n",
      " 1   Age          1309 non-null   float64\n",
      " 2   Fare         1309 non-null   float64\n",
      " 3   Sex          1309 non-null   int64  \n",
      " 4   sibsp        1309 non-null   int64  \n",
      " 5   zero         1309 non-null   int64  \n",
      " 6   zero.1       1309 non-null   int64  \n",
      " 7   zero.2       1309 non-null   int64  \n",
      " 8   zero.3       1309 non-null   int64  \n",
      " 9   zero.4       1309 non-null   int64  \n",
      " 10  zero.5       1309 non-null   int64  \n",
      " 11  zero.6       1309 non-null   int64  \n",
      " 12  Parch        1309 non-null   int64  \n",
      " 13  zero.7       1309 non-null   int64  \n",
      " 14  zero.8       1309 non-null   int64  \n",
      " 15  zero.9       1309 non-null   int64  \n",
      " 16  zero.10      1309 non-null   int64  \n",
      " 17  zero.11      1309 non-null   int64  \n",
      " 18  zero.12      1309 non-null   int64  \n",
      " 19  zero.13      1309 non-null   int64  \n",
      " 20  zero.14      1309 non-null   int64  \n",
      " 21  Pclass       1309 non-null   int64  \n",
      " 22  zero.15      1309 non-null   int64  \n",
      " 23  zero.16      1309 non-null   int64  \n",
      " 24  Embarked     1307 non-null   float64\n",
      " 25  zero.17      1309 non-null   int64  \n",
      " 26  zero.18      1309 non-null   int64  \n",
      " 27  2urvived     1309 non-null   int64  \n",
      "dtypes: float64(3), int64(25)\n",
      "memory usage: 286.5 KB\n"
     ]
    }
   ],
   "source": [
    "df.info()"
   ]
  },
  {
   "cell_type": "code",
   "execution_count": 6,
   "id": "ea2f50e9",
   "metadata": {
    "execution": {
     "iopub.execute_input": "2024-06-20T17:23:24.735473Z",
     "iopub.status.busy": "2024-06-20T17:23:24.735103Z",
     "iopub.status.idle": "2024-06-20T17:23:24.742296Z",
     "shell.execute_reply": "2024-06-20T17:23:24.741134Z"
    },
    "papermill": {
     "duration": 0.021272,
     "end_time": "2024-06-20T17:23:24.744954",
     "exception": false,
     "start_time": "2024-06-20T17:23:24.723682",
     "status": "completed"
    },
    "tags": []
   },
   "outputs": [],
   "source": [
    "df = df[[\"Pclass\", \"Age\", \"Fare\", \"Sex\", \"2urvived\"]]"
   ]
  },
  {
   "cell_type": "code",
   "execution_count": 7,
   "id": "54f72e26",
   "metadata": {
    "execution": {
     "iopub.execute_input": "2024-06-20T17:23:24.768732Z",
     "iopub.status.busy": "2024-06-20T17:23:24.768363Z",
     "iopub.status.idle": "2024-06-20T17:23:24.774189Z",
     "shell.execute_reply": "2024-06-20T17:23:24.773066Z"
    },
    "papermill": {
     "duration": 0.021523,
     "end_time": "2024-06-20T17:23:24.776962",
     "exception": false,
     "start_time": "2024-06-20T17:23:24.755439",
     "status": "completed"
    },
    "tags": []
   },
   "outputs": [],
   "source": [
    "df.columns = [\"Pclass\", \"Age\", \"Fare\", \"Sex\", \"Survived\"]"
   ]
  },
  {
   "cell_type": "code",
   "execution_count": 8,
   "id": "d41194f8",
   "metadata": {
    "execution": {
     "iopub.execute_input": "2024-06-20T17:23:24.800055Z",
     "iopub.status.busy": "2024-06-20T17:23:24.799633Z",
     "iopub.status.idle": "2024-06-20T17:23:24.813757Z",
     "shell.execute_reply": "2024-06-20T17:23:24.812696Z"
    },
    "papermill": {
     "duration": 0.03008,
     "end_time": "2024-06-20T17:23:24.817697",
     "exception": false,
     "start_time": "2024-06-20T17:23:24.787617",
     "status": "completed"
    },
    "tags": []
   },
   "outputs": [
    {
     "data": {
      "text/html": [
       "<div>\n",
       "<style scoped>\n",
       "    .dataframe tbody tr th:only-of-type {\n",
       "        vertical-align: middle;\n",
       "    }\n",
       "\n",
       "    .dataframe tbody tr th {\n",
       "        vertical-align: top;\n",
       "    }\n",
       "\n",
       "    .dataframe thead th {\n",
       "        text-align: right;\n",
       "    }\n",
       "</style>\n",
       "<table border=\"1\" class=\"dataframe\">\n",
       "  <thead>\n",
       "    <tr style=\"text-align: right;\">\n",
       "      <th></th>\n",
       "      <th>Pclass</th>\n",
       "      <th>Age</th>\n",
       "      <th>Fare</th>\n",
       "      <th>Sex</th>\n",
       "      <th>Survived</th>\n",
       "    </tr>\n",
       "  </thead>\n",
       "  <tbody>\n",
       "    <tr>\n",
       "      <th>0</th>\n",
       "      <td>3</td>\n",
       "      <td>22.0</td>\n",
       "      <td>7.2500</td>\n",
       "      <td>0</td>\n",
       "      <td>0</td>\n",
       "    </tr>\n",
       "    <tr>\n",
       "      <th>1</th>\n",
       "      <td>1</td>\n",
       "      <td>38.0</td>\n",
       "      <td>71.2833</td>\n",
       "      <td>1</td>\n",
       "      <td>1</td>\n",
       "    </tr>\n",
       "    <tr>\n",
       "      <th>2</th>\n",
       "      <td>3</td>\n",
       "      <td>26.0</td>\n",
       "      <td>7.9250</td>\n",
       "      <td>1</td>\n",
       "      <td>1</td>\n",
       "    </tr>\n",
       "    <tr>\n",
       "      <th>3</th>\n",
       "      <td>1</td>\n",
       "      <td>35.0</td>\n",
       "      <td>53.1000</td>\n",
       "      <td>1</td>\n",
       "      <td>1</td>\n",
       "    </tr>\n",
       "    <tr>\n",
       "      <th>4</th>\n",
       "      <td>3</td>\n",
       "      <td>35.0</td>\n",
       "      <td>8.0500</td>\n",
       "      <td>0</td>\n",
       "      <td>0</td>\n",
       "    </tr>\n",
       "  </tbody>\n",
       "</table>\n",
       "</div>"
      ],
      "text/plain": [
       "   Pclass   Age     Fare  Sex  Survived\n",
       "0       3  22.0   7.2500    0         0\n",
       "1       1  38.0  71.2833    1         1\n",
       "2       3  26.0   7.9250    1         1\n",
       "3       1  35.0  53.1000    1         1\n",
       "4       3  35.0   8.0500    0         0"
      ]
     },
     "execution_count": 8,
     "metadata": {},
     "output_type": "execute_result"
    }
   ],
   "source": [
    "df.head()"
   ]
  },
  {
   "cell_type": "code",
   "execution_count": 9,
   "id": "0e320cb1",
   "metadata": {
    "execution": {
     "iopub.execute_input": "2024-06-20T17:23:24.842198Z",
     "iopub.status.busy": "2024-06-20T17:23:24.840707Z",
     "iopub.status.idle": "2024-06-20T17:23:24.851223Z",
     "shell.execute_reply": "2024-06-20T17:23:24.849845Z"
    },
    "papermill": {
     "duration": 0.025313,
     "end_time": "2024-06-20T17:23:24.854222",
     "exception": false,
     "start_time": "2024-06-20T17:23:24.828909",
     "status": "completed"
    },
    "tags": []
   },
   "outputs": [
    {
     "data": {
      "text/plain": [
       "Pclass      0\n",
       "Age         0\n",
       "Fare        0\n",
       "Sex         0\n",
       "Survived    0\n",
       "dtype: int64"
      ]
     },
     "execution_count": 9,
     "metadata": {},
     "output_type": "execute_result"
    }
   ],
   "source": [
    "df.isnull().sum()"
   ]
  },
  {
   "cell_type": "code",
   "execution_count": 10,
   "id": "5bcf62f4",
   "metadata": {
    "execution": {
     "iopub.execute_input": "2024-06-20T17:23:24.878055Z",
     "iopub.status.busy": "2024-06-20T17:23:24.876700Z",
     "iopub.status.idle": "2024-06-20T17:23:24.883336Z",
     "shell.execute_reply": "2024-06-20T17:23:24.882248Z"
    },
    "papermill": {
     "duration": 0.021122,
     "end_time": "2024-06-20T17:23:24.885971",
     "exception": false,
     "start_time": "2024-06-20T17:23:24.864849",
     "status": "completed"
    },
    "tags": []
   },
   "outputs": [],
   "source": [
    "X = df.iloc[:,:-1]\n",
    "y = df.iloc[:,4]"
   ]
  },
  {
   "cell_type": "code",
   "execution_count": 11,
   "id": "2c9df84f",
   "metadata": {
    "execution": {
     "iopub.execute_input": "2024-06-20T17:23:24.909056Z",
     "iopub.status.busy": "2024-06-20T17:23:24.908661Z",
     "iopub.status.idle": "2024-06-20T17:23:24.922065Z",
     "shell.execute_reply": "2024-06-20T17:23:24.920538Z"
    },
    "papermill": {
     "duration": 0.028074,
     "end_time": "2024-06-20T17:23:24.924614",
     "exception": false,
     "start_time": "2024-06-20T17:23:24.896540",
     "status": "completed"
    },
    "tags": []
   },
   "outputs": [
    {
     "data": {
      "text/html": [
       "<div>\n",
       "<style scoped>\n",
       "    .dataframe tbody tr th:only-of-type {\n",
       "        vertical-align: middle;\n",
       "    }\n",
       "\n",
       "    .dataframe tbody tr th {\n",
       "        vertical-align: top;\n",
       "    }\n",
       "\n",
       "    .dataframe thead th {\n",
       "        text-align: right;\n",
       "    }\n",
       "</style>\n",
       "<table border=\"1\" class=\"dataframe\">\n",
       "  <thead>\n",
       "    <tr style=\"text-align: right;\">\n",
       "      <th></th>\n",
       "      <th>Pclass</th>\n",
       "      <th>Age</th>\n",
       "      <th>Fare</th>\n",
       "      <th>Sex</th>\n",
       "    </tr>\n",
       "  </thead>\n",
       "  <tbody>\n",
       "    <tr>\n",
       "      <th>0</th>\n",
       "      <td>3</td>\n",
       "      <td>22.0</td>\n",
       "      <td>7.2500</td>\n",
       "      <td>0</td>\n",
       "    </tr>\n",
       "    <tr>\n",
       "      <th>1</th>\n",
       "      <td>1</td>\n",
       "      <td>38.0</td>\n",
       "      <td>71.2833</td>\n",
       "      <td>1</td>\n",
       "    </tr>\n",
       "    <tr>\n",
       "      <th>2</th>\n",
       "      <td>3</td>\n",
       "      <td>26.0</td>\n",
       "      <td>7.9250</td>\n",
       "      <td>1</td>\n",
       "    </tr>\n",
       "    <tr>\n",
       "      <th>3</th>\n",
       "      <td>1</td>\n",
       "      <td>35.0</td>\n",
       "      <td>53.1000</td>\n",
       "      <td>1</td>\n",
       "    </tr>\n",
       "    <tr>\n",
       "      <th>4</th>\n",
       "      <td>3</td>\n",
       "      <td>35.0</td>\n",
       "      <td>8.0500</td>\n",
       "      <td>0</td>\n",
       "    </tr>\n",
       "  </tbody>\n",
       "</table>\n",
       "</div>"
      ],
      "text/plain": [
       "   Pclass   Age     Fare  Sex\n",
       "0       3  22.0   7.2500    0\n",
       "1       1  38.0  71.2833    1\n",
       "2       3  26.0   7.9250    1\n",
       "3       1  35.0  53.1000    1\n",
       "4       3  35.0   8.0500    0"
      ]
     },
     "execution_count": 11,
     "metadata": {},
     "output_type": "execute_result"
    }
   ],
   "source": [
    "X.head()"
   ]
  },
  {
   "cell_type": "code",
   "execution_count": 12,
   "id": "849faa34",
   "metadata": {
    "execution": {
     "iopub.execute_input": "2024-06-20T17:23:24.950537Z",
     "iopub.status.busy": "2024-06-20T17:23:24.949446Z",
     "iopub.status.idle": "2024-06-20T17:23:24.957717Z",
     "shell.execute_reply": "2024-06-20T17:23:24.956516Z"
    },
    "papermill": {
     "duration": 0.024733,
     "end_time": "2024-06-20T17:23:24.960380",
     "exception": false,
     "start_time": "2024-06-20T17:23:24.935647",
     "status": "completed"
    },
    "tags": []
   },
   "outputs": [
    {
     "data": {
      "text/plain": [
       "0    0\n",
       "1    1\n",
       "2    1\n",
       "3    1\n",
       "4    0\n",
       "Name: Survived, dtype: int64"
      ]
     },
     "execution_count": 12,
     "metadata": {},
     "output_type": "execute_result"
    }
   ],
   "source": [
    "y.head()"
   ]
  },
  {
   "cell_type": "markdown",
   "id": "153acbe9",
   "metadata": {
    "papermill": {
     "duration": 0.011614,
     "end_time": "2024-06-20T17:23:24.982873",
     "exception": false,
     "start_time": "2024-06-20T17:23:24.971259",
     "status": "completed"
    },
    "tags": []
   },
   "source": [
    "*Splitting the dataset into train and test data*"
   ]
  },
  {
   "cell_type": "code",
   "execution_count": 13,
   "id": "0e905c23",
   "metadata": {
    "execution": {
     "iopub.execute_input": "2024-06-20T17:23:25.008056Z",
     "iopub.status.busy": "2024-06-20T17:23:25.007127Z",
     "iopub.status.idle": "2024-06-20T17:23:26.727373Z",
     "shell.execute_reply": "2024-06-20T17:23:26.726149Z"
    },
    "papermill": {
     "duration": 1.735704,
     "end_time": "2024-06-20T17:23:26.730451",
     "exception": false,
     "start_time": "2024-06-20T17:23:24.994747",
     "status": "completed"
    },
    "tags": []
   },
   "outputs": [],
   "source": [
    "from sklearn.model_selection import train_test_split\n",
    "X_train, X_test, y_train, y_test = train_test_split(X, y, test_size = 0.33, random_state=42)"
   ]
  },
  {
   "cell_type": "code",
   "execution_count": 14,
   "id": "b7ac69dc",
   "metadata": {
    "execution": {
     "iopub.execute_input": "2024-06-20T17:23:26.756479Z",
     "iopub.status.busy": "2024-06-20T17:23:26.756065Z",
     "iopub.status.idle": "2024-06-20T17:23:26.761386Z",
     "shell.execute_reply": "2024-06-20T17:23:26.760140Z"
    },
    "papermill": {
     "duration": 0.020911,
     "end_time": "2024-06-20T17:23:26.764101",
     "exception": false,
     "start_time": "2024-06-20T17:23:26.743190",
     "status": "completed"
    },
    "tags": []
   },
   "outputs": [],
   "source": [
    "from sklearn.preprocessing import StandardScaler"
   ]
  },
  {
   "cell_type": "code",
   "execution_count": 15,
   "id": "7295f9d6",
   "metadata": {
    "execution": {
     "iopub.execute_input": "2024-06-20T17:23:26.790432Z",
     "iopub.status.busy": "2024-06-20T17:23:26.789580Z",
     "iopub.status.idle": "2024-06-20T17:23:26.809641Z",
     "shell.execute_reply": "2024-06-20T17:23:26.805500Z"
    },
    "papermill": {
     "duration": 0.038584,
     "end_time": "2024-06-20T17:23:26.813722",
     "exception": false,
     "start_time": "2024-06-20T17:23:26.775138",
     "status": "completed"
    },
    "tags": []
   },
   "outputs": [],
   "source": [
    "scaler = StandardScaler()\n",
    "X_train_scaled = scaler.fit_transform(X_train)"
   ]
  },
  {
   "cell_type": "code",
   "execution_count": 16,
   "id": "2c52ac27",
   "metadata": {
    "execution": {
     "iopub.execute_input": "2024-06-20T17:23:26.845432Z",
     "iopub.status.busy": "2024-06-20T17:23:26.845001Z",
     "iopub.status.idle": "2024-06-20T17:23:26.855178Z",
     "shell.execute_reply": "2024-06-20T17:23:26.853663Z"
    },
    "papermill": {
     "duration": 0.02823,
     "end_time": "2024-06-20T17:23:26.857548",
     "exception": false,
     "start_time": "2024-06-20T17:23:26.829318",
     "status": "completed"
    },
    "tags": []
   },
   "outputs": [
    {
     "data": {
      "text/plain": [
       "array([[ 0.85920374, -0.60169694, -0.52828855,  1.37636821],\n",
       "       [ 0.85920374, -0.12437351, -0.38428307,  1.37636821],\n",
       "       [ 0.85920374, -0.68125085, -0.51230637, -0.72654977],\n",
       "       ...,\n",
       "       [-1.5103613 , -0.99946647,  0.26782405, -0.72654977],\n",
       "       [ 0.85920374,  0.90982727, -0.39127528, -0.72654977],\n",
       "       [ 0.85920374, -0.76080475, -0.51621801, -0.72654977]])"
      ]
     },
     "execution_count": 16,
     "metadata": {},
     "output_type": "execute_result"
    }
   ],
   "source": [
    "X_train_scaled"
   ]
  },
  {
   "cell_type": "code",
   "execution_count": 17,
   "id": "7a845631",
   "metadata": {
    "execution": {
     "iopub.execute_input": "2024-06-20T17:23:26.883776Z",
     "iopub.status.busy": "2024-06-20T17:23:26.883340Z",
     "iopub.status.idle": "2024-06-20T17:23:26.898229Z",
     "shell.execute_reply": "2024-06-20T17:23:26.897019Z"
    },
    "papermill": {
     "duration": 0.031761,
     "end_time": "2024-06-20T17:23:26.901094",
     "exception": false,
     "start_time": "2024-06-20T17:23:26.869333",
     "status": "completed"
    },
    "tags": []
   },
   "outputs": [
    {
     "data": {
      "text/html": [
       "<div>\n",
       "<style scoped>\n",
       "    .dataframe tbody tr th:only-of-type {\n",
       "        vertical-align: middle;\n",
       "    }\n",
       "\n",
       "    .dataframe tbody tr th {\n",
       "        vertical-align: top;\n",
       "    }\n",
       "\n",
       "    .dataframe thead th {\n",
       "        text-align: right;\n",
       "    }\n",
       "</style>\n",
       "<table border=\"1\" class=\"dataframe\">\n",
       "  <thead>\n",
       "    <tr style=\"text-align: right;\">\n",
       "      <th></th>\n",
       "      <th>Pclass</th>\n",
       "      <th>Age</th>\n",
       "      <th>Fare</th>\n",
       "      <th>Sex</th>\n",
       "    </tr>\n",
       "  </thead>\n",
       "  <tbody>\n",
       "    <tr>\n",
       "      <th>1148</th>\n",
       "      <td>3</td>\n",
       "      <td>28.0</td>\n",
       "      <td>8.050</td>\n",
       "      <td>0</td>\n",
       "    </tr>\n",
       "    <tr>\n",
       "      <th>1049</th>\n",
       "      <td>1</td>\n",
       "      <td>42.0</td>\n",
       "      <td>26.550</td>\n",
       "      <td>0</td>\n",
       "    </tr>\n",
       "    <tr>\n",
       "      <th>982</th>\n",
       "      <td>3</td>\n",
       "      <td>28.0</td>\n",
       "      <td>7.775</td>\n",
       "      <td>0</td>\n",
       "    </tr>\n",
       "    <tr>\n",
       "      <th>808</th>\n",
       "      <td>2</td>\n",
       "      <td>39.0</td>\n",
       "      <td>13.000</td>\n",
       "      <td>0</td>\n",
       "    </tr>\n",
       "    <tr>\n",
       "      <th>1195</th>\n",
       "      <td>3</td>\n",
       "      <td>28.0</td>\n",
       "      <td>7.750</td>\n",
       "      <td>1</td>\n",
       "    </tr>\n",
       "  </tbody>\n",
       "</table>\n",
       "</div>"
      ],
      "text/plain": [
       "      Pclass   Age    Fare  Sex\n",
       "1148       3  28.0   8.050    0\n",
       "1049       1  42.0  26.550    0\n",
       "982        3  28.0   7.775    0\n",
       "808        2  39.0  13.000    0\n",
       "1195       3  28.0   7.750    1"
      ]
     },
     "execution_count": 17,
     "metadata": {},
     "output_type": "execute_result"
    }
   ],
   "source": [
    "X_test.head()"
   ]
  },
  {
   "cell_type": "code",
   "execution_count": 18,
   "id": "87adb5c4",
   "metadata": {
    "execution": {
     "iopub.execute_input": "2024-06-20T17:23:26.928865Z",
     "iopub.status.busy": "2024-06-20T17:23:26.928390Z",
     "iopub.status.idle": "2024-06-20T17:23:26.937534Z",
     "shell.execute_reply": "2024-06-20T17:23:26.936122Z"
    },
    "papermill": {
     "duration": 0.028042,
     "end_time": "2024-06-20T17:23:26.940975",
     "exception": false,
     "start_time": "2024-06-20T17:23:26.912933",
     "status": "completed"
    },
    "tags": []
   },
   "outputs": [],
   "source": [
    "X_test_scaled = scaler.transform(X_test)"
   ]
  },
  {
   "cell_type": "code",
   "execution_count": 19,
   "id": "71c19e37",
   "metadata": {
    "execution": {
     "iopub.execute_input": "2024-06-20T17:23:26.975832Z",
     "iopub.status.busy": "2024-06-20T17:23:26.975256Z",
     "iopub.status.idle": "2024-06-20T17:23:26.986015Z",
     "shell.execute_reply": "2024-06-20T17:23:26.984577Z"
    },
    "papermill": {
     "duration": 0.033224,
     "end_time": "2024-06-20T17:23:26.989376",
     "exception": false,
     "start_time": "2024-06-20T17:23:26.956152",
     "status": "completed"
    },
    "tags": []
   },
   "outputs": [
    {
     "data": {
      "text/plain": [
       "array([[ 0.85920374, -0.12437351, -0.51230637, -0.72654977],\n",
       "       [-1.5103613 ,  0.98938117, -0.14271833, -0.72654977],\n",
       "       [ 0.85920374, -0.12437351, -0.51780024, -0.72654977],\n",
       "       ...,\n",
       "       [ 0.85920374,  0.07451126, -0.51230637, -0.72654977],\n",
       "       [ 0.85920374, -0.91991256, -0.51230637,  1.37636821],\n",
       "       [ 0.85920374,  0.75071946, -0.09127567,  1.37636821]])"
      ]
     },
     "execution_count": 19,
     "metadata": {},
     "output_type": "execute_result"
    }
   ],
   "source": [
    "X_test_scaled"
   ]
  },
  {
   "cell_type": "code",
   "execution_count": 20,
   "id": "152c3f27",
   "metadata": {
    "execution": {
     "iopub.execute_input": "2024-06-20T17:23:27.028069Z",
     "iopub.status.busy": "2024-06-20T17:23:27.027107Z",
     "iopub.status.idle": "2024-06-20T17:23:27.152843Z",
     "shell.execute_reply": "2024-06-20T17:23:27.151263Z"
    },
    "papermill": {
     "duration": 0.149426,
     "end_time": "2024-06-20T17:23:27.156929",
     "exception": false,
     "start_time": "2024-06-20T17:23:27.007503",
     "status": "completed"
    },
    "tags": []
   },
   "outputs": [],
   "source": [
    "from sklearn.linear_model import LogisticRegression\n",
    "classification = LogisticRegression()"
   ]
  },
  {
   "cell_type": "code",
   "execution_count": 21,
   "id": "35ba4b37",
   "metadata": {
    "execution": {
     "iopub.execute_input": "2024-06-20T17:23:27.183787Z",
     "iopub.status.busy": "2024-06-20T17:23:27.183332Z",
     "iopub.status.idle": "2024-06-20T17:23:27.208435Z",
     "shell.execute_reply": "2024-06-20T17:23:27.206747Z"
    },
    "papermill": {
     "duration": 0.041365,
     "end_time": "2024-06-20T17:23:27.211633",
     "exception": false,
     "start_time": "2024-06-20T17:23:27.170268",
     "status": "completed"
    },
    "tags": []
   },
   "outputs": [
    {
     "data": {
      "text/html": [
       "<style>#sk-container-id-1 {color: black;background-color: white;}#sk-container-id-1 pre{padding: 0;}#sk-container-id-1 div.sk-toggleable {background-color: white;}#sk-container-id-1 label.sk-toggleable__label {cursor: pointer;display: block;width: 100%;margin-bottom: 0;padding: 0.3em;box-sizing: border-box;text-align: center;}#sk-container-id-1 label.sk-toggleable__label-arrow:before {content: \"▸\";float: left;margin-right: 0.25em;color: #696969;}#sk-container-id-1 label.sk-toggleable__label-arrow:hover:before {color: black;}#sk-container-id-1 div.sk-estimator:hover label.sk-toggleable__label-arrow:before {color: black;}#sk-container-id-1 div.sk-toggleable__content {max-height: 0;max-width: 0;overflow: hidden;text-align: left;background-color: #f0f8ff;}#sk-container-id-1 div.sk-toggleable__content pre {margin: 0.2em;color: black;border-radius: 0.25em;background-color: #f0f8ff;}#sk-container-id-1 input.sk-toggleable__control:checked~div.sk-toggleable__content {max-height: 200px;max-width: 100%;overflow: auto;}#sk-container-id-1 input.sk-toggleable__control:checked~label.sk-toggleable__label-arrow:before {content: \"▾\";}#sk-container-id-1 div.sk-estimator input.sk-toggleable__control:checked~label.sk-toggleable__label {background-color: #d4ebff;}#sk-container-id-1 div.sk-label input.sk-toggleable__control:checked~label.sk-toggleable__label {background-color: #d4ebff;}#sk-container-id-1 input.sk-hidden--visually {border: 0;clip: rect(1px 1px 1px 1px);clip: rect(1px, 1px, 1px, 1px);height: 1px;margin: -1px;overflow: hidden;padding: 0;position: absolute;width: 1px;}#sk-container-id-1 div.sk-estimator {font-family: monospace;background-color: #f0f8ff;border: 1px dotted black;border-radius: 0.25em;box-sizing: border-box;margin-bottom: 0.5em;}#sk-container-id-1 div.sk-estimator:hover {background-color: #d4ebff;}#sk-container-id-1 div.sk-parallel-item::after {content: \"\";width: 100%;border-bottom: 1px solid gray;flex-grow: 1;}#sk-container-id-1 div.sk-label:hover label.sk-toggleable__label {background-color: #d4ebff;}#sk-container-id-1 div.sk-serial::before {content: \"\";position: absolute;border-left: 1px solid gray;box-sizing: border-box;top: 0;bottom: 0;left: 50%;z-index: 0;}#sk-container-id-1 div.sk-serial {display: flex;flex-direction: column;align-items: center;background-color: white;padding-right: 0.2em;padding-left: 0.2em;position: relative;}#sk-container-id-1 div.sk-item {position: relative;z-index: 1;}#sk-container-id-1 div.sk-parallel {display: flex;align-items: stretch;justify-content: center;background-color: white;position: relative;}#sk-container-id-1 div.sk-item::before, #sk-container-id-1 div.sk-parallel-item::before {content: \"\";position: absolute;border-left: 1px solid gray;box-sizing: border-box;top: 0;bottom: 0;left: 50%;z-index: -1;}#sk-container-id-1 div.sk-parallel-item {display: flex;flex-direction: column;z-index: 1;position: relative;background-color: white;}#sk-container-id-1 div.sk-parallel-item:first-child::after {align-self: flex-end;width: 50%;}#sk-container-id-1 div.sk-parallel-item:last-child::after {align-self: flex-start;width: 50%;}#sk-container-id-1 div.sk-parallel-item:only-child::after {width: 0;}#sk-container-id-1 div.sk-dashed-wrapped {border: 1px dashed gray;margin: 0 0.4em 0.5em 0.4em;box-sizing: border-box;padding-bottom: 0.4em;background-color: white;}#sk-container-id-1 div.sk-label label {font-family: monospace;font-weight: bold;display: inline-block;line-height: 1.2em;}#sk-container-id-1 div.sk-label-container {text-align: center;}#sk-container-id-1 div.sk-container {/* jupyter's `normalize.less` sets `[hidden] { display: none; }` but bootstrap.min.css set `[hidden] { display: none !important; }` so we also need the `!important` here to be able to override the default hidden behavior on the sphinx rendered scikit-learn.org. See: https://github.com/scikit-learn/scikit-learn/issues/21755 */display: inline-block !important;position: relative;}#sk-container-id-1 div.sk-text-repr-fallback {display: none;}</style><div id=\"sk-container-id-1\" class=\"sk-top-container\"><div class=\"sk-text-repr-fallback\"><pre>LogisticRegression()</pre><b>In a Jupyter environment, please rerun this cell to show the HTML representation or trust the notebook. <br />On GitHub, the HTML representation is unable to render, please try loading this page with nbviewer.org.</b></div><div class=\"sk-container\" hidden><div class=\"sk-item\"><div class=\"sk-estimator sk-toggleable\"><input class=\"sk-toggleable__control sk-hidden--visually\" id=\"sk-estimator-id-1\" type=\"checkbox\" checked><label for=\"sk-estimator-id-1\" class=\"sk-toggleable__label sk-toggleable__label-arrow\">LogisticRegression</label><div class=\"sk-toggleable__content\"><pre>LogisticRegression()</pre></div></div></div></div></div>"
      ],
      "text/plain": [
       "LogisticRegression()"
      ]
     },
     "execution_count": 21,
     "metadata": {},
     "output_type": "execute_result"
    }
   ],
   "source": [
    "classification.fit(X_train_scaled, y_train)"
   ]
  },
  {
   "cell_type": "code",
   "execution_count": 22,
   "id": "f17e683a",
   "metadata": {
    "execution": {
     "iopub.execute_input": "2024-06-20T17:23:27.238460Z",
     "iopub.status.busy": "2024-06-20T17:23:27.238057Z",
     "iopub.status.idle": "2024-06-20T17:23:27.244246Z",
     "shell.execute_reply": "2024-06-20T17:23:27.242837Z"
    },
    "papermill": {
     "duration": 0.022883,
     "end_time": "2024-06-20T17:23:27.247003",
     "exception": false,
     "start_time": "2024-06-20T17:23:27.224120",
     "status": "completed"
    },
    "tags": []
   },
   "outputs": [],
   "source": [
    "ypred = classification.predict(X_test_scaled)"
   ]
  },
  {
   "cell_type": "code",
   "execution_count": 23,
   "id": "33125593",
   "metadata": {
    "execution": {
     "iopub.execute_input": "2024-06-20T17:23:27.273893Z",
     "iopub.status.busy": "2024-06-20T17:23:27.273450Z",
     "iopub.status.idle": "2024-06-20T17:23:27.283210Z",
     "shell.execute_reply": "2024-06-20T17:23:27.282021Z"
    },
    "papermill": {
     "duration": 0.027291,
     "end_time": "2024-06-20T17:23:27.286808",
     "exception": false,
     "start_time": "2024-06-20T17:23:27.259517",
     "status": "completed"
    },
    "tags": []
   },
   "outputs": [
    {
     "data": {
      "text/plain": [
       "array([0, 0, 0, 0, 0, 0, 0, 1, 0, 0, 0, 0, 0, 1, 0, 1, 0, 0, 0, 0, 0, 0,\n",
       "       0, 0, 0, 0, 0, 0, 0, 0, 0, 1, 0, 0, 0, 0, 0, 0, 0, 0, 0, 0, 0, 0,\n",
       "       0, 0, 0, 0, 0, 1, 0, 1, 0, 0, 1, 0, 0, 0, 0, 0, 0, 0, 1, 0, 1, 0,\n",
       "       1, 0, 0, 0, 0, 0, 0, 0, 0, 0, 0, 0, 1, 0, 1, 0, 0, 0, 0, 0, 0, 0,\n",
       "       1, 0, 0, 0, 0, 0, 0, 0, 0, 0, 1, 0, 0, 0, 0, 0, 0, 0, 1, 0, 0, 0,\n",
       "       0, 0, 0, 0, 1, 0, 0, 0, 0, 0, 0, 1, 0, 0, 0, 0, 0, 0, 0, 1, 0, 1,\n",
       "       0, 1, 0, 0, 1, 0, 0, 0, 0, 0, 0, 0, 0, 1, 0, 0, 0, 0, 0, 0, 0, 0,\n",
       "       0, 1, 0, 1, 0, 0, 0, 0, 0, 0, 0, 0, 0, 0, 0, 0, 0, 0, 0, 1, 0, 1,\n",
       "       0, 0, 0, 0, 0, 0, 0, 1, 1, 0, 0, 0, 0, 0, 0, 0, 0, 0, 0, 0, 1, 0,\n",
       "       0, 0, 0, 0, 0, 0, 0, 0, 0, 0, 0, 0, 0, 0, 0, 0, 0, 0, 1, 1, 0, 0,\n",
       "       0, 0, 0, 0, 0, 0, 0, 0, 0, 0, 1, 0, 0, 1, 1, 0, 1, 0, 1, 0, 0, 0,\n",
       "       0, 0, 0, 0, 0, 0, 0, 0, 0, 0, 0, 1, 0, 0, 0, 0, 0, 0, 1, 1, 0, 0,\n",
       "       0, 0, 0, 0, 1, 0, 0, 0, 0, 0, 0, 0, 0, 0, 0, 1, 0, 0, 0, 0, 0, 0,\n",
       "       0, 0, 0, 0, 0, 0, 0, 0, 1, 0, 0, 1, 0, 0, 1, 1, 0, 0, 0, 1, 0, 0,\n",
       "       0, 0, 0, 0, 0, 0, 0, 0, 1, 0, 0, 0, 0, 1, 0, 1, 1, 0, 0, 0, 1, 0,\n",
       "       1, 0, 0, 0, 0, 0, 0, 0, 0, 1, 0, 0, 0, 0, 0, 0, 0, 0, 0, 0, 0, 0,\n",
       "       0, 0, 0, 0, 1, 1, 0, 0, 0, 0, 0, 0, 1, 0, 0, 0, 0, 0, 0, 0, 0, 0,\n",
       "       0, 0, 0, 0, 0, 0, 0, 0, 0, 0, 0, 0, 1, 0, 1, 0, 0, 0, 1, 0, 0, 0,\n",
       "       0, 0, 0, 0, 0, 0, 0, 0, 0, 1, 0, 0, 0, 0, 1, 0, 0, 0, 0, 1, 1, 1,\n",
       "       1, 0, 0, 0, 0, 0, 0, 1, 0, 0, 0, 0, 0, 0])"
      ]
     },
     "execution_count": 23,
     "metadata": {},
     "output_type": "execute_result"
    }
   ],
   "source": [
    "ypred"
   ]
  },
  {
   "cell_type": "code",
   "execution_count": 24,
   "id": "140d3b09",
   "metadata": {
    "execution": {
     "iopub.execute_input": "2024-06-20T17:23:27.314872Z",
     "iopub.status.busy": "2024-06-20T17:23:27.314412Z",
     "iopub.status.idle": "2024-06-20T17:23:27.321400Z",
     "shell.execute_reply": "2024-06-20T17:23:27.319864Z"
    },
    "papermill": {
     "duration": 0.025029,
     "end_time": "2024-06-20T17:23:27.324693",
     "exception": false,
     "start_time": "2024-06-20T17:23:27.299664",
     "status": "completed"
    },
    "tags": []
   },
   "outputs": [],
   "source": [
    "from sklearn.metrics import classification_report, confusion_matrix"
   ]
  },
  {
   "cell_type": "code",
   "execution_count": 25,
   "id": "b7e7c138",
   "metadata": {
    "execution": {
     "iopub.execute_input": "2024-06-20T17:23:27.355146Z",
     "iopub.status.busy": "2024-06-20T17:23:27.354688Z",
     "iopub.status.idle": "2024-06-20T17:23:27.375127Z",
     "shell.execute_reply": "2024-06-20T17:23:27.372972Z"
    },
    "papermill": {
     "duration": 0.039317,
     "end_time": "2024-06-20T17:23:27.378317",
     "exception": false,
     "start_time": "2024-06-20T17:23:27.339000",
     "status": "completed"
    },
    "tags": []
   },
   "outputs": [
    {
     "name": "stdout",
     "output_type": "stream",
     "text": [
      "              precision    recall  f1-score   support\n",
      "\n",
      "           0       0.81      0.93      0.87       318\n",
      "           1       0.67      0.39      0.49       114\n",
      "\n",
      "    accuracy                           0.79       432\n",
      "   macro avg       0.74      0.66      0.68       432\n",
      "weighted avg       0.77      0.79      0.77       432\n",
      "\n"
     ]
    }
   ],
   "source": [
    "print(classification_report(y_test, ypred))"
   ]
  },
  {
   "cell_type": "code",
   "execution_count": 26,
   "id": "dc58f7ff",
   "metadata": {
    "execution": {
     "iopub.execute_input": "2024-06-20T17:23:27.405641Z",
     "iopub.status.busy": "2024-06-20T17:23:27.405116Z",
     "iopub.status.idle": "2024-06-20T17:23:27.417056Z",
     "shell.execute_reply": "2024-06-20T17:23:27.415683Z"
    },
    "papermill": {
     "duration": 0.02877,
     "end_time": "2024-06-20T17:23:27.419786",
     "exception": false,
     "start_time": "2024-06-20T17:23:27.391016",
     "status": "completed"
    },
    "tags": []
   },
   "outputs": [
    {
     "data": {
      "text/plain": [
       "array([[296,  22],\n",
       "       [ 70,  44]])"
      ]
     },
     "execution_count": 26,
     "metadata": {},
     "output_type": "execute_result"
    }
   ],
   "source": [
    "confusion_matrix(y_test, ypred)"
   ]
  },
  {
   "cell_type": "markdown",
   "id": "5ffc2159",
   "metadata": {
    "papermill": {
     "duration": 0.011949,
     "end_time": "2024-06-20T17:23:27.444584",
     "exception": false,
     "start_time": "2024-06-20T17:23:27.432635",
     "status": "completed"
    },
    "tags": []
   },
   "source": [
    "*accuracy=(296+44)/(296+22+70+44) \n",
    "=>0.78703\n",
    "=>~0.79.*\n",
    "*hence, we got accuracy of 0.79 for the Logistic Regression model.*"
   ]
  }
 ],
 "metadata": {
  "kaggle": {
   "accelerator": "none",
   "dataSources": [
    {
     "datasetId": 1275,
     "sourceId": 2286,
     "sourceType": "datasetVersion"
    }
   ],
   "dockerImageVersionId": 30646,
   "isGpuEnabled": false,
   "isInternetEnabled": false,
   "language": "python",
   "sourceType": "notebook"
  },
  "kernelspec": {
   "display_name": "Python 3",
   "language": "python",
   "name": "python3"
  },
  "language_info": {
   "codemirror_mode": {
    "name": "ipython",
    "version": 3
   },
   "file_extension": ".py",
   "mimetype": "text/x-python",
   "name": "python",
   "nbconvert_exporter": "python",
   "pygments_lexer": "ipython3",
   "version": "3.10.13"
  },
  "papermill": {
   "default_parameters": {},
   "duration": 8.113802,
   "end_time": "2024-06-20T17:23:28.079867",
   "environment_variables": {},
   "exception": null,
   "input_path": "__notebook__.ipynb",
   "output_path": "__notebook__.ipynb",
   "parameters": {},
   "start_time": "2024-06-20T17:23:19.966065",
   "version": "2.5.0"
  }
 },
 "nbformat": 4,
 "nbformat_minor": 5
}
